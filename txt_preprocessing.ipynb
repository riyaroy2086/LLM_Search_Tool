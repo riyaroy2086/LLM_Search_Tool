{
 "cells": [
  {
   "cell_type": "code",
   "execution_count": 1,
   "id": "9ff614d1",
   "metadata": {},
   "outputs": [],
   "source": [
    "from langchain.document_loaders import TextLoader ##pip3 install langchain==0.0.130"
   ]
  },
  {
   "cell_type": "code",
   "execution_count": 2,
   "id": "cf496e9e",
   "metadata": {},
   "outputs": [
    {
     "data": {
      "text/plain": [
       "[Document(page_content=\"India vs New Zealand Live Score, World Cup Semi-Final: Bumrah gets rid of Glenn Phillips, NZ bank on Daryl Mitchell\\nNov 15, 2023 09:59 PM IST\\n\\nIndia vs New Zealand Live Score, World Cup 1st Semi-Final: Mohammed Shami struck twice in one over, including the wicket of Kane Williamson\\nIndia vs New Zealand Live Score, World Cup Semi-Final: India made a mockery of the New Zealand bowling attack as centuries from Virat Kohli and Shreyas Iyer powered the team to an imposing 397/4 in the first semi-final in Mumbai's Wankhede Stadium on Wednesday. Kohli created history by becoming the first man to complete 50 ODI centuries, while Shreyas blasted his hundred off just 67 balls, allowing India to put up the highest total ever in a World Cup knockout game. Tim Southee scored an unwanted century himself, finishing with 100/3, but in the end, India were all over the Black Caps for the first half-of the match. Shubman Gill had to retired hurt on 79 although he returned in the last over. And as always, Rohit Sharma gave India an explosive start after winning the toss and opting to bat on a belter of a pitch.\\n\\nIndia vs New Zealand Live Score, World Cup 1st Semi-Final\\nIndia vs New Zealand Live Score, World Cup 1st Semi-Final(Reuters)\\nNew Zealand then got off to a steady start, with Jasprit Bumrah and Mohammed Siraj struggling to get their lines and lengths in the first five overs. However, Mohammed Shami got the breakthrough with his first ball of the mtach and then dismissed Rachin Ravindra in his very next over. Kane Williamson and Daryl Mitchell then restablised the Kiwi innings and have stitched a 150-plus stand for the third wicket. Both the batters completed their half-centuries before Williamson was dropped by Shami on 52.\\n\\nHowever, the bowler redeemed himself as the game progressed and provided India with a double blow. He first removed Williamson for 69(73) and then trapped Tom Latham LBW for 0(2). Mitchell, who has already slammed a ton, then held fort with Glenn Phillips and added over 50 runs for the fifth wicket.\\n\\nBoth India and New Zealand are playing with the same teams that they fielded in their final group stage games. When the World Cup got underway on October 5 last month, what were the odds that one of the semi-finals would feature a repeat of last year's knockout. India vs New Zealand. No one, especially if you're an Indian cricket fan, can forget the night of July 10, 2019, when with a heartbreaking run-out of MS Dhoni, which also marked the great man's last international appearance, India's marauding World Cup campaign came to a screeching halt. They were the toppers at the conclusion of the league stage, having lost just the one game â€“ to England â€“ but as unfair as it was, India came short on the reserve day as '40 minutes of bad cricket' sent them crashing out. It was a blow to the gut and even Virat Kohli couldn't hide his emotions in the press conference.\\n\\nFour years later, as fate would have it, the two teams are back taking center-stage at Mumbai's Wankhede Stadium. And for both India and New Zealand, it's an opportunity to lay their World Cup demons to rest. Like India, New Zealand haven't won a World Cup either, and even though they have one additional ICC title in their trophy cabinet â€“ the World Test Championship â€“ the BlackCaps have a huge monkey on their back too. Finalists in 2015 and 2019 World Cup, semi-finalists in the last two editions of the T20 World Cup, the Kiwis want to end this hoodoo of their own.\\n\\nThere are so many similarities between the two teams. Both India and New Zealand were at one stage undefeated with four wins from four matches, but while the Men in Blue stretched it to an unprecedented 9-0, the Kiwis stuttered to lose four on the bounce â€“ against India, Australia, South Africa and Pakistan. And yet, battling all mathematical calculations and after defeating Sri Lanka, their path to the semis was sealed â€“ not because they were ruthless â€“ but mostly because teams like Pakistan and England underperformed and Afghanistan and the Netherlands punched above their weight.\\n\\nAnother coincidence is that if India lost Hardik Pandya to injury, New Zealand were dealt a blow of their own when Matt Henry was ruled out. They flew Kyle Jamieson, the tall all-rounder in, but he is yet to get a game. And the narrative is expected to remain the same against India. Frankly. with the old yet reliable new-ball bowling pair of Trent Boult and Tim Southee reuniting, backed up by the searing pace of Lockie Ferguson, there is no need. As for their options with the bat, it's an in-form top order. Rachin Ravindra, Kane Williamson, Daryl Mitchell and Devon Conway have scored runs in bulk and would be keen to put the fiery Indian bowling line-up under the pump.\\n\\nBut it's easier said that done. This Indian team is something else. There have been so many outstanding Indian teams in the past, but none had the aura of invincibility this unit under Rohit seem to possess. They have not only remained unbeaten this far but is the only team that has bowled out oppositions in all games. Two out of the top five leading run-getters this World Cup are Virat Kohli and Rohit, while Jasprit Bumrah, Mohammed Shami and Ravindra Jadeja are among the top 10 highest wicket-takers. All five batters in the top order have smoked hundreds in the tournament, and two bowlers have combined to pick three 5-wicket-hauls. This team is on its way to glory and despite history backing them, New Zealand need to play out of their skins to stop this Indian juggernaut from cruising to the World Cup final.\\n\\nBelow are some important pointers surrounding India vs New Zealand World Cup semi-final match:\\n\\n- India won toss and chose to bat\\n\\n- Rohit got India off to a flier, scoring 47 in 29 balls\\n\\n- Gill kept them going but retired hurt on 79 off 65\\n\\n- Virat Kohli scored his first World Cup knockout half-century\\n\\n- Kohli went on to convert that to a century, thus breaking Sachin Tendulkar's record for most ODI tons and becoming the first to 50 centuries in the format\\n\\n- Shreyas Iyer then raced past 100 in 67 balls, his 2nd consecutive century\\n\\n- KL Rahul smashed 39 in 20 balls and India scored 397/4 in 50 overs\\n\\n- Shami got a breakthrough with his first ball of the match and then got a second in the next over\\n\\n-Williamson and Daryl Mitchell take NZ to 124/2 in 20 overs\\n\\n-Williamson, Daryl Mitchell slam 50s each\\n\\n-Shami drops Williamson on 52\\n\\n-Shami injects double blow to shift momentum. Daryl Mitchell slams ton\\n\\n-Daryl Mitchell and Glenn Phillips add 50-plus stand for 5th wicket\", metadata={'source': 'news.txt'})]"
      ]
     },
     "execution_count": 2,
     "metadata": {},
     "output_type": "execute_result"
    }
   ],
   "source": [
    "loader = TextLoader('news.txt')\n",
    "df = loader.load()\n",
    "df\n",
    "## .metadata : for the name of the file"
   ]
  },
  {
   "cell_type": "code",
   "execution_count": 3,
   "id": "a7812b87",
   "metadata": {},
   "outputs": [
    {
     "data": {
      "text/plain": [
       "\"India vs New Zealand Live Score, World Cup Semi-Final: Bumrah gets rid of Glenn Phillips, NZ bank on Daryl Mitchell\\nNov 15, 2023 09:59 PM IST\\n\\nIndia vs New Zealand Live Score, World Cup 1st Semi-Final: Mohammed Shami struck twice in one over, including the wicket of Kane Williamson\\nIndia vs New Zealand Live Score, World Cup Semi-Final: India made a mockery of the New Zealand bowling attack as centuries from Virat Kohli and Shreyas Iyer powered the team to an imposing 397/4 in the first semi-final in Mumbai's Wankhede Stadium on Wednesday. Kohli created history by becoming the first man to complete 50 ODI centuries, while Shreyas blasted his hundred off just 67 balls, allowing India to put up the highest total ever in a World Cup knockout game. Tim Southee scored an unwanted century himself, finishing with 100/3, but in the end, India were all over the Black Caps for the first half-of the match. Shubman Gill had to retired hurt on 79 although he returned in the last over. And as always, Rohit Sharma gave India an explosive start after winning the toss and opting to bat on a belter of a pitch.\\n\\nIndia vs New Zealand Live Score, World Cup 1st Semi-Final\\nIndia vs New Zealand Live Score, World Cup 1st Semi-Final(Reuters)\\nNew Zealand then got off to a steady start, with Jasprit Bumrah and Mohammed Siraj struggling to get their lines and lengths in the first five overs. However, Mohammed Shami got the breakthrough with his first ball of the mtach and then dismissed Rachin Ravindra in his very next over. Kane Williamson and Daryl Mitchell then restablised the Kiwi innings and have stitched a 150-plus stand for the third wicket. Both the batters completed their half-centuries before Williamson was dropped by Shami on 52.\\n\\nHowever, the bowler redeemed himself as the game progressed and provided India with a double blow. He first removed Williamson for 69(73) and then trapped Tom Latham LBW for 0(2). Mitchell, who has already slammed a ton, then held fort with Glenn Phillips and added over 50 runs for the fifth wicket.\\n\\nBoth India and New Zealand are playing with the same teams that they fielded in their final group stage games. When the World Cup got underway on October 5 last month, what were the odds that one of the semi-finals would feature a repeat of last year's knockout. India vs New Zealand. No one, especially if you're an Indian cricket fan, can forget the night of July 10, 2019, when with a heartbreaking run-out of MS Dhoni, which also marked the great man's last international appearance, India's marauding World Cup campaign came to a screeching halt. They were the toppers at the conclusion of the league stage, having lost just the one game â€“ to England â€“ but as unfair as it was, India came short on the reserve day as '40 minutes of bad cricket' sent them crashing out. It was a blow to the gut and even Virat Kohli couldn't hide his emotions in the press conference.\\n\\nFour years later, as fate would have it, the two teams are back taking center-stage at Mumbai's Wankhede Stadium. And for both India and New Zealand, it's an opportunity to lay their World Cup demons to rest. Like India, New Zealand haven't won a World Cup either, and even though they have one additional ICC title in their trophy cabinet â€“ the World Test Championship â€“ the BlackCaps have a huge monkey on their back too. Finalists in 2015 and 2019 World Cup, semi-finalists in the last two editions of the T20 World Cup, the Kiwis want to end this hoodoo of their own.\\n\\nThere are so many similarities between the two teams. Both India and New Zealand were at one stage undefeated with four wins from four matches, but while the Men in Blue stretched it to an unprecedented 9-0, the Kiwis stuttered to lose four on the bounce â€“ against India, Australia, South Africa and Pakistan. And yet, battling all mathematical calculations and after defeating Sri Lanka, their path to the semis was sealed â€“ not because they were ruthless â€“ but mostly because teams like Pakistan and England underperformed and Afghanistan and the Netherlands punched above their weight.\\n\\nAnother coincidence is that if India lost Hardik Pandya to injury, New Zealand were dealt a blow of their own when Matt Henry was ruled out. They flew Kyle Jamieson, the tall all-rounder in, but he is yet to get a game. And the narrative is expected to remain the same against India. Frankly. with the old yet reliable new-ball bowling pair of Trent Boult and Tim Southee reuniting, backed up by the searing pace of Lockie Ferguson, there is no need. As for their options with the bat, it's an in-form top order. Rachin Ravindra, Kane Williamson, Daryl Mitchell and Devon Conway have scored runs in bulk and would be keen to put the fiery Indian bowling line-up under the pump.\\n\\nBut it's easier said that done. This Indian team is something else. There have been so many outstanding Indian teams in the past, but none had the aura of invincibility this unit under Rohit seem to possess. They have not only remained unbeaten this far but is the only team that has bowled out oppositions in all games. Two out of the top five leading run-getters this World Cup are Virat Kohli and Rohit, while Jasprit Bumrah, Mohammed Shami and Ravindra Jadeja are among the top 10 highest wicket-takers. All five batters in the top order have smoked hundreds in the tournament, and two bowlers have combined to pick three 5-wicket-hauls. This team is on its way to glory and despite history backing them, New Zealand need to play out of their skins to stop this Indian juggernaut from cruising to the World Cup final.\\n\\nBelow are some important pointers surrounding India vs New Zealand World Cup semi-final match:\\n\\n- India won toss and chose to bat\\n\\n- Rohit got India off to a flier, scoring 47 in 29 balls\\n\\n- Gill kept them going but retired hurt on 79 off 65\\n\\n- Virat Kohli scored his first World Cup knockout half-century\\n\\n- Kohli went on to convert that to a century, thus breaking Sachin Tendulkar's record for most ODI tons and becoming the first to 50 centuries in the format\\n\\n- Shreyas Iyer then raced past 100 in 67 balls, his 2nd consecutive century\\n\\n- KL Rahul smashed 39 in 20 balls and India scored 397/4 in 50 overs\\n\\n- Shami got a breakthrough with his first ball of the match and then got a second in the next over\\n\\n-Williamson and Daryl Mitchell take NZ to 124/2 in 20 overs\\n\\n-Williamson, Daryl Mitchell slam 50s each\\n\\n-Shami drops Williamson on 52\\n\\n-Shami injects double blow to shift momentum. Daryl Mitchell slams ton\\n\\n-Daryl Mitchell and Glenn Phillips add 50-plus stand for 5th wicket\""
      ]
     },
     "execution_count": 3,
     "metadata": {},
     "output_type": "execute_result"
    }
   ],
   "source": [
    "df[0].page_content"
   ]
  },
  {
   "cell_type": "code",
   "execution_count": 4,
   "id": "f229367d",
   "metadata": {},
   "outputs": [],
   "source": [
    "## CSV Loader\n",
    "\n",
    "from langchain.document_loaders.csv_loader import CSVLoader"
   ]
  },
  {
   "cell_type": "code",
   "execution_count": 5,
   "id": "fc0b8bb2",
   "metadata": {},
   "outputs": [
    {
     "data": {
      "text/plain": [
       "[Document(page_content='movie_id: 101\\ntitle: K.G.F: Chapter 2\\nindustry: Bollywood\\nrelease_year: 2022\\nimdb_rating: 8.4\\nstudio: Hombale Films\\nlanguage_id: 3\\nbudget: 1\\nrevenue: 12.5\\nunit: Billions\\ncurrency: INR', metadata={'source': 'movies.csv', 'row': 0}),\n",
       " Document(page_content='movie_id: 102\\ntitle: Doctor Strange in the Multiverse of Madness\\nindustry: Hollywood\\nrelease_year: 2022\\nimdb_rating: 7\\nstudio: Marvel Studios\\nlanguage_id: 5\\nbudget: 200\\nrevenue: 954.8\\nunit: Millions\\ncurrency: USD', metadata={'source': 'movies.csv', 'row': 1}),\n",
       " Document(page_content='movie_id: 103\\ntitle: Thor: The Dark World\\nindustry: Hollywood\\nrelease_year: 2013\\nimdb_rating: 6.8\\nstudio: Marvel Studios\\nlanguage_id: 5\\nbudget: 165\\nrevenue: 644.8\\nunit: Millions\\ncurrency: USD', metadata={'source': 'movies.csv', 'row': 2}),\n",
       " Document(page_content='movie_id: 104\\ntitle: Thor: Ragnarok\\nindustry: Hollywood\\nrelease_year: 2017\\nimdb_rating: 7.9\\nstudio: Marvel Studios\\nlanguage_id: 5\\nbudget: 180\\nrevenue: 854\\nunit: Millions\\ncurrency: USD', metadata={'source': 'movies.csv', 'row': 3}),\n",
       " Document(page_content='movie_id: 105\\ntitle: Thor: Love and Thunder\\nindustry: Hollywood\\nrelease_year: 2022\\nimdb_rating: 6.8\\nstudio: Marvel Studios\\nlanguage_id: 5\\nbudget: 250\\nrevenue: 670\\nunit: Millions\\ncurrency: USD', metadata={'source': 'movies.csv', 'row': 4}),\n",
       " Document(page_content='movie_id: 106\\ntitle: Sholay\\nindustry: Bollywood\\nrelease_year: 1975\\nimdb_rating: 8.1\\nstudio: United Producers\\nlanguage_id: 1\\nbudget: Not Available\\nrevenue: Not Available\\nunit: Not Available\\ncurrency: Not Available', metadata={'source': 'movies.csv', 'row': 5}),\n",
       " Document(page_content='movie_id: 107\\ntitle: Dilwale Dulhania Le Jayenge\\nindustry: Bollywood\\nrelease_year: 1995\\nimdb_rating: 8\\nstudio: Yash Raj Films\\nlanguage_id: 1\\nbudget: 400\\nrevenue: 2000\\nunit: Millions\\ncurrency: INR', metadata={'source': 'movies.csv', 'row': 6}),\n",
       " Document(page_content='movie_id: 108\\ntitle: 3 Idiots\\nindustry: Bollywood\\nrelease_year: 2009\\nimdb_rating: 8.4\\nstudio: Vinod Chopra Films\\nlanguage_id: 1\\nbudget: 550\\nrevenue: 4000\\nunit: Millions\\ncurrency: INR', metadata={'source': 'movies.csv', 'row': 7}),\n",
       " Document(page_content='movie_id: 109\\ntitle: Kabhi Khushi Kabhie Gham\\nindustry: Bollywood\\nrelease_year: 2001\\nimdb_rating: 7.4\\nstudio: Dharma Productions\\nlanguage_id: 1\\nbudget: 390\\nrevenue: 1360\\nunit: Millions\\ncurrency: INR', metadata={'source': 'movies.csv', 'row': 8}),\n",
       " Document(page_content='movie_id: 110\\ntitle: The Galactic Odyssey\\nindustry: Sci-Fi\\nrelease_year: 2023\\nimdb_rating: 7.5\\nstudio: Starlight Studios\\nlanguage_id: 5\\nbudget: 120\\nrevenue: 280\\nunit: Millions\\ncurrency: USD', metadata={'source': 'movies.csv', 'row': 9}),\n",
       " Document(page_content='movie_id: 111\\ntitle: Mystical Creatures\\nindustry: Fantasy\\nrelease_year: 2023\\nimdb_rating: 6.9\\nstudio: Enchanting Films\\nlanguage_id: 4\\nbudget: 80\\nrevenue: 150\\nunit: Millions\\ncurrency: USD', metadata={'source': 'movies.csv', 'row': 10}),\n",
       " Document(page_content='movie_id: 112\\ntitle: Secrets of the Abyss\\nindustry: Adventure\\nrelease_year: 2021\\nimdb_rating: 8.2\\nstudio: Cinematic Adventures\\nlanguage_id: 5\\nbudget: 90\\nrevenue: 210\\nunit: Millions\\ncurrency: USD', metadata={'source': 'movies.csv', 'row': 11}),\n",
       " Document(page_content='movie_id: 113\\ntitle: Eternal Echoes\\nindustry: Romance\\nrelease_year: 2023\\nimdb_rating: 7.1\\nstudio: Romantic Dreams\\nlanguage_id: 1\\nbudget: 60\\nrevenue: 120\\nunit: Millions\\ncurrency: USD', metadata={'source': 'movies.csv', 'row': 12}),\n",
       " Document(page_content='movie_id: 114\\ntitle: Rogue Agents\\nindustry: Action\\nrelease_year: 2022\\nimdb_rating: 6.5\\nstudio: ThunderStrike Productions\\nlanguage_id: 5\\nbudget: 150\\nrevenue: 320\\nunit: Millions\\ncurrency: USD', metadata={'source': 'movies.csv', 'row': 13}),\n",
       " Document(page_content='movie_id: 115\\ntitle: Lost in Time\\nindustry: Adventure\\nrelease_year: 2022\\nimdb_rating: 7.8\\nstudio: Timeless Pictures\\nlanguage_id: 2\\nbudget: 70\\nrevenue: 180\\nunit: Millions\\ncurrency: USD', metadata={'source': 'movies.csv', 'row': 14}),\n",
       " Document(page_content='movie_id: 116\\ntitle: Space Serenade\\nindustry: Sci-Fi\\nrelease_year: 2021\\nimdb_rating: 7.3\\nstudio: Cosmic Studios\\nlanguage_id: 5\\nbudget: 110\\nrevenue: 250\\nunit: Millions\\ncurrency: USD', metadata={'source': 'movies.csv', 'row': 15}),\n",
       " Document(page_content='movie_id: 117\\ntitle: Whispers in the Wind\\nindustry: Drama\\nrelease_year: 2023\\nimdb_rating: 8.5\\nstudio: Serene Films\\nlanguage_id: 1\\nbudget: 30\\nrevenue: 90\\nunit: Millions\\ncurrency: USD', metadata={'source': 'movies.csv', 'row': 16}),\n",
       " Document(page_content='movie_id: 118\\ntitle: Midnight Masquerade\\nindustry: Mystery\\nrelease_year: 2022\\nimdb_rating: 7\\nstudio: Enigma Entertainment\\nlanguage_id: 3\\nbudget: 45\\nrevenue: 110\\nunit: Millions\\ncurrency: USD', metadata={'source': 'movies.csv', 'row': 17}),\n",
       " Document(page_content='movie_id: 119\\ntitle: Legacy of Legends\\nindustry: Action\\nrelease_year: 2023\\nimdb_rating: 8\\nstudio: Epic Productions\\nlanguage_id: 5\\nbudget: 200\\nrevenue: 480\\nunit: Millions\\ncurrency: USD', metadata={'source': 'movies.csv', 'row': 18}),\n",
       " Document(page_content='movie_id: 120\\ntitle: Enchanted Symphony\\nindustry: Animation\\nrelease_year: 2022\\nimdb_rating: 7.6\\nstudio: Magical Studios\\nlanguage_id: 4\\nbudget: 75\\nrevenue: 160\\nunit: Millions\\ncurrency: USD', metadata={'source': 'movies.csv', 'row': 19}),\n",
       " Document(page_content='movie_id: 121\\ntitle: Whirlwind of Wonders\\nindustry: Comedy\\nrelease_year: 2021\\nimdb_rating: 6.7\\nstudio: Joyful Pictures\\nlanguage_id: 2\\nbudget: 40\\nrevenue: 95\\nunit: Millions\\ncurrency: USD', metadata={'source': 'movies.csv', 'row': 20}),\n",
       " Document(page_content='movie_id: 122\\ntitle: Chronicles of Celestia\\nindustry: Fantasy\\nrelease_year: 2022\\nimdb_rating: 7.9\\nstudio: Ethereal Studios\\nlanguage_id: 5\\nbudget: 130\\nrevenue: 310\\nunit: Millions\\ncurrency: USD', metadata={'source': 'movies.csv', 'row': 21}),\n",
       " Document(page_content='movie_id: 123\\ntitle: The Silent Symphony\\nindustry: Drama\\nrelease_year: 2023\\nimdb_rating: 8.3\\nstudio: Serene Films\\nlanguage_id: 1\\nbudget: 25\\nrevenue: 80\\nunit: Millions\\ncurrency: USD', metadata={'source': 'movies.csv', 'row': 22}),\n",
       " Document(page_content='movie_id: 124\\ntitle: Infinite Horizons\\nindustry: Sci-Fi\\nrelease_year: 2022\\nimdb_rating: 7.6\\nstudio: Cosmic Productions\\nlanguage_id: 5\\nbudget: 95\\nrevenue: 220\\nunit: Millions\\ncurrency: USD', metadata={'source': 'movies.csv', 'row': 23}),\n",
       " Document(page_content='movie_id: 125\\ntitle: Whispering Shadows\\nindustry: Thriller\\nrelease_year: 2023\\nimdb_rating: 7.2\\nstudio: Shadowcraft Films\\nlanguage_id: 3\\nbudget: 55\\nrevenue: 130\\nunit: Millions\\ncurrency: USD', metadata={'source': 'movies.csv', 'row': 24}),\n",
       " Document(page_content='movie_id: 126\\ntitle: Stardust Serenade\\nindustry: Romance\\nrelease_year: 2022\\nimdb_rating: 8\\nstudio: Starstruck Entertainment\\nlanguage_id: 1\\nbudget: 70\\nrevenue: 180\\nunit: Millions\\ncurrency: USD', metadata={'source': 'movies.csv', 'row': 25}),\n",
       " Document(page_content='movie_id: 127\\ntitle: Quantum Quandary\\nindustry: Sci-Fi\\nrelease_year: 2021\\nimdb_rating: 7.4\\nstudio: Paradox Pictures\\nlanguage_id: 5\\nbudget: 85\\nrevenue: 200\\nunit: Millions\\ncurrency: USD', metadata={'source': 'movies.csv', 'row': 26}),\n",
       " Document(page_content='movie_id: 128\\ntitle: Moonlit Melodies\\nindustry: Musical\\nrelease_year: 2023\\nimdb_rating: 7.7\\nstudio: Harmony Productions\\nlanguage_id: 1\\nbudget: 50\\nrevenue: 120\\nunit: Millions\\ncurrency: USD', metadata={'source': 'movies.csv', 'row': 27}),\n",
       " Document(page_content='movie_id: 129\\ntitle: Perilous Pursuit\\nindustry: Action\\nrelease_year: 2022\\nimdb_rating: 6.8\\nstudio: Danger Zone Films\\nlanguage_id: 5\\nbudget: 180\\nrevenue: 380\\nunit: Millions\\ncurrency: USD', metadata={'source': 'movies.csv', 'row': 28}),\n",
       " Document(page_content='movie_id: 130\\ntitle: Whimsical Whodunit\\nindustry: Mystery\\nrelease_year: 2021\\nimdb_rating: 7.1\\nstudio: Sleuth Studios\\nlanguage_id: 3\\nbudget: 45\\nrevenue: 110\\nunit: Millions\\ncurrency: USD', metadata={'source': 'movies.csv', 'row': 29}),\n",
       " Document(page_content='movie_id: 131\\ntitle: Heartstrings Harmony\\nindustry: Romance\\nrelease_year: 2023\\nimdb_rating: 8.2\\nstudio: LoveLane Films\\nlanguage_id: 1\\nbudget: 65\\nrevenue: 150\\nunit: Millions\\ncurrency: USD', metadata={'source': 'movies.csv', 'row': 30}),\n",
       " Document(page_content='movie_id: 132\\ntitle: Supernova Secrets\\nindustry: Sci-Fi\\nrelease_year: 2022\\nimdb_rating: 7.5\\nstudio: Astral Studios\\nlanguage_id: 5\\nbudget: 110\\nrevenue: 260\\nunit: Millions\\ncurrency: USD', metadata={'source': 'movies.csv', 'row': 31}),\n",
       " Document(page_content='movie_id: 133\\ntitle: Realm of Riddles\\nindustry: Mystery\\nrelease_year: 2021\\nimdb_rating: 7\\nstudio: Puzzle Productions\\nlanguage_id: 3\\nbudget: 55\\nrevenue: 125\\nunit: Millions\\ncurrency: USD', metadata={'source': 'movies.csv', 'row': 32}),\n",
       " Document(page_content='movie_id: 134\\ntitle: Neon Nights\\nindustry: Thriller\\nrelease_year: 2023\\nimdb_rating: 7.8\\nstudio: Shadowplay Films\\nlanguage_id: 5\\nbudget: 75\\nrevenue: 180\\nunit: Millions\\ncurrency: USD', metadata={'source': 'movies.csv', 'row': 33}),\n",
       " Document(page_content='movie_id: 135\\ntitle: Lunar Legends\\nindustry: Fantasy\\nrelease_year: 2022\\nimdb_rating: 8.1\\nstudio: Moonlight Studios\\nlanguage_id: 4\\nbudget: 90\\nrevenue: 220\\nunit: Millions\\ncurrency: USD', metadata={'source': 'movies.csv', 'row': 34}),\n",
       " Document(page_content='movie_id: 136\\ntitle: Whistleblower\\nindustry: War\\nrelease_year: 2021\\nimdb_rating: 6.5\\nstudio: Battlefront Films\\nlanguage_id: 5\\nbudget: 200\\nrevenue: 420\\nunit: Millions\\ncurrency: USD', metadata={'source': 'movies.csv', 'row': 35}),\n",
       " Document(page_content='movie_id: 137\\ntitle: Quantum Quest\\nindustry: Sci-Fi\\nrelease_year: 2023\\nimdb_rating: 7.6\\nstudio: Infinity Entertainment\\nlanguage_id: 5\\nbudget: 120\\nrevenue: 290\\nunit: Millions\\ncurrency: USD', metadata={'source': 'movies.csv', 'row': 36}),\n",
       " Document(page_content='movie_id: 138\\ntitle: Serendipity Springs\\nindustry: Romance\\nrelease_year: 2022\\nimdb_rating: 8.3\\nstudio: LoveStory Productions\\nlanguage_id: 1\\nbudget: 60\\nrevenue: 150\\nunit: Millions\\ncurrency: USD', metadata={'source': 'movies.csv', 'row': 37}),\n",
       " Document(page_content='movie_id: 139\\ntitle: Rogue Run\\nindustry: Thriller\\nrelease_year: 2021\\nimdb_rating: 6.9\\nstudio: Adrenaline Rush Films\\nlanguage_id: 5\\nbudget: 150\\nrevenue: 320\\nunit: Millions\\ncurrency: USD', metadata={'source': 'movies.csv', 'row': 38}),\n",
       " Document(page_content='movie_id: 140\\ntitle: Cosmic Cascade\\nindustry: Sci-Fi\\nrelease_year: 2023\\nimdb_rating: 7.4\\nstudio: Cosmos Studios\\nlanguage_id: 5\\nbudget: 100\\nrevenue: 240\\nunit: Millions\\ncurrency: USD', metadata={'source': 'movies.csv', 'row': 39}),\n",
       " Document(page_content='movie_id: 141\\ntitle: Blazing Trails\\nindustry: Western\\nrelease_year: 2022\\nimdb_rating: 7.2\\nstudio: Frontier Films\\nlanguage_id: 5\\nbudget: 80\\nrevenue: 170\\nunit: Millions\\ncurrency: USD', metadata={'source': 'movies.csv', 'row': 40}),\n",
       " Document(page_content='movie_id: 142\\ntitle: Moonlit Masquerade\\nindustry: Mystery\\nrelease_year: 2021\\nimdb_rating: 7.5\\nstudio: Mystique Productions\\nlanguage_id: 3\\nbudget: 50\\nrevenue: 115\\nunit: Millions\\ncurrency: USD', metadata={'source': 'movies.csv', 'row': 41}),\n",
       " Document(page_content='movie_id: 143\\ntitle: Whispers in the Dark\\nindustry: Horror\\nrelease_year: 2023\\nimdb_rating: 6.8\\nstudio: Chill Studios\\nlanguage_id: 4\\nbudget: 65\\nrevenue: 140\\nunit: Millions\\ncurrency: USD', metadata={'source': 'movies.csv', 'row': 42}),\n",
       " Document(page_content=\"movie_id: 144\\ntitle: Enigma's Embrace\\nindustry: Drama\\nrelease_year: 2022\\nimdb_rating: 8\\nstudio: Mystery Mindset Films\\nlanguage_id: 1\\nbudget: 35\\nrevenue: 100\\nunit: Millions\\ncurrency: USD\", metadata={'source': 'movies.csv', 'row': 43}),\n",
       " Document(page_content='movie_id: 145\\ntitle: Sonic Symphony\\nindustry: Animation\\nrelease_year: 2021\\nimdb_rating: 7.7\\nstudio: WhizKid Studios\\nlanguage_id: 4\\nbudget: 70\\nrevenue: 160\\nunit: Millions\\ncurrency: USD', metadata={'source': 'movies.csv', 'row': 44}),\n",
       " Document(page_content='movie_id: 146\\ntitle: Starlight Sonata\\nindustry: Musical\\nrelease_year: 2023\\nimdb_rating: 8.5\\nstudio: Harmonic Heights\\nlanguage_id: 1\\nbudget: 55\\nrevenue: 130\\nunit: Millions\\ncurrency: USD', metadata={'source': 'movies.csv', 'row': 45}),\n",
       " Document(page_content=\"movie_id: 147\\ntitle: Neptune's Nexus\\nindustry: Adventure\\nrelease_year: 2022\\nimdb_rating: 7.3\\nstudio: Seafarer Productions\\nlanguage_id: 5\\nbudget: 95\\nrevenue: 210\\nunit: Millions\\ncurrency: USD\", metadata={'source': 'movies.csv', 'row': 46}),\n",
       " Document(page_content='movie_id: 148\\ntitle: Ethereal Echoes\\nindustry: Fantasy\\nrelease_year: 2021\\nimdb_rating: 8.2\\nstudio: Dreamscape Films\\nlanguage_id: 4\\nbudget: 85\\nrevenue: 200\\nunit: Millions\\ncurrency: USD', metadata={'source': 'movies.csv', 'row': 47}),\n",
       " Document(page_content='movie_id: 149\\ntitle: Whirlwind Romance\\nindustry: Romance\\nrelease_year: 2023\\nimdb_rating: 7.9\\nstudio: LoveStorm Productions\\nlanguage_id: 1\\nbudget: 75\\nrevenue: 180\\nunit: Millions\\ncurrency: USD', metadata={'source': 'movies.csv', 'row': 48}),\n",
       " Document(page_content='movie_id: 150\\ntitle: Midnight Mirage\\nindustry: Thriller\\nrelease_year: 2022\\nimdb_rating: 7.1\\nstudio: Mystique Films\\nlanguage_id: 5\\nbudget: 110\\nrevenue: 250\\nunit: Millions\\ncurrency: USD', metadata={'source': 'movies.csv', 'row': 49}),\n",
       " Document(page_content='movie_id: 151\\ntitle: Rogue Raiders\\nindustry: Action\\nrelease_year: 2021\\nimdb_rating: 6.6\\nstudio: Thunderstrike Films\\nlanguage_id: 5\\nbudget: 180\\nrevenue: 380\\nunit: Millions\\ncurrency: USD', metadata={'source': 'movies.csv', 'row': 50}),\n",
       " Document(page_content='movie_id: 152\\ntitle: Whispering Woods\\nindustry: Horror\\nrelease_year: 2023\\nimdb_rating: 6.9\\nstudio: Eerie Entertainment\\nlanguage_id: 4\\nbudget: 60\\nrevenue: 130\\nunit: Millions\\ncurrency: USD', metadata={'source': 'movies.csv', 'row': 51}),\n",
       " Document(page_content='movie_id: 153\\ntitle: Lost Legends\\nindustry: Fantasy\\nrelease_year: 2022\\nimdb_rating: 7.8\\nstudio: Mythic Movies\\nlanguage_id: 4\\nbudget: 95\\nrevenue: 220\\nunit: Millions\\ncurrency: USD', metadata={'source': 'movies.csv', 'row': 52}),\n",
       " Document(page_content='movie_id: 154\\ntitle: Starry Serenade\\nindustry: Musical\\nrelease_year: 2021\\nimdb_rating: 8.1\\nstudio: Harmony Haven\\nlanguage_id: 1\\nbudget: 50\\nrevenue: 120\\nunit: Millions\\ncurrency: USD', metadata={'source': 'movies.csv', 'row': 53}),\n",
       " Document(page_content='movie_id: 155\\ntitle: Quantum Quandaries\\nindustry: Sci-Fi\\nrelease_year: 2023\\nimdb_rating: 7.5\\nstudio: Paradoxical Productions\\nlanguage_id: 5\\nbudget: 125\\nrevenue: 280\\nunit: Millions\\ncurrency: USD', metadata={'source': 'movies.csv', 'row': 54}),\n",
       " Document(page_content='movie_id: 156\\ntitle: Marvelous Melodies\\nindustry: Musical\\nrelease_year: 2022\\nimdb_rating: 7.7\\nstudio: Celestial Studios\\nlanguage_id: 1\\nbudget: 55\\nrevenue: 140\\nunit: Millions\\ncurrency: USD', metadata={'source': 'movies.csv', 'row': 55}),\n",
       " Document(page_content='movie_id: 157\\ntitle: Whimsical Wonders\\nindustry: Comedy\\nrelease_year: 2021\\nimdb_rating: 6.8\\nstudio: Joyful Journeys\\nlanguage_id: 2\\nbudget: 40\\nrevenue: 100\\nunit: Millions\\ncurrency: USD', metadata={'source': 'movies.csv', 'row': 56}),\n",
       " Document(page_content='movie_id: 158\\ntitle: Chronicles of Chaos\\nindustry: Adventure\\nrelease_year: 2023\\nimdb_rating: 8.4\\nstudio: Epic Expeditions\\nlanguage_id: 5\\nbudget: 110\\nrevenue: 260\\nunit: Millions\\ncurrency: USD', metadata={'source': 'movies.csv', 'row': 57}),\n",
       " Document(page_content='movie_id: 159\\ntitle: Lunar Lullaby\\nindustry: Animation\\nrelease_year: 2022\\nimdb_rating: 7.3\\nstudio: DreamWorks Delight\\nlanguage_id: 4\\nbudget: 75\\nrevenue: 160\\nunit: Millions\\ncurrency: USD', metadata={'source': 'movies.csv', 'row': 58}),\n",
       " Document(page_content=\"movie_id: 160\\ntitle: Whistleblower's War\\nindustry: War\\nrelease_year: 2021\\nimdb_rating: 6.5\\nstudio: Warrior Films\\nlanguage_id: 5\\nbudget: 190\\nrevenue: 400\\nunit: Millions\\ncurrency: USD\", metadata={'source': 'movies.csv', 'row': 59}),\n",
       " Document(page_content='movie_id: 161\\ntitle: Quantum Quandary 2\\nindustry: Sci-Fi\\nrelease_year: 2023\\nimdb_rating: 7.7\\nstudio: Paradoxical Sequels\\nlanguage_id: 5\\nbudget: 130\\nrevenue: 310\\nunit: Millions\\ncurrency: USD', metadata={'source': 'movies.csv', 'row': 60}),\n",
       " Document(page_content='movie_id: 162\\ntitle: Ethereal Enigma\\nindustry: Mystery\\nrelease_year: 2022\\nimdb_rating: 7.1\\nstudio: Mystery Makers\\nlanguage_id: 3\\nbudget: 50\\nrevenue: 115\\nunit: Millions\\ncurrency: USD', metadata={'source': 'movies.csv', 'row': 61}),\n",
       " Document(page_content='movie_id: 163\\ntitle: Whispers of War\\nindustry: War\\nrelease_year: 2021\\nimdb_rating: 6.6\\nstudio: Battlefront Studios\\nlanguage_id: 5\\nbudget: 200\\nrevenue: 420\\nunit: Millions\\ncurrency: USD', metadata={'source': 'movies.csv', 'row': 62}),\n",
       " Document(page_content='movie_id: 164\\ntitle: Starlight Symphony\\nindustry: Musical\\nrelease_year: 2023\\nimdb_rating: 8.2\\nstudio: Harmony Heights\\nlanguage_id: 1\\nbudget: 55\\nrevenue: 130\\nunit: Millions\\ncurrency: USD', metadata={'source': 'movies.csv', 'row': 63}),\n",
       " Document(page_content='movie_id: 165\\ntitle: Romantic Riddles\\nindustry: Mystery\\nrelease_year: 2022\\nimdb_rating: 7\\nstudio: Puzzle Pictures\\nlanguage_id: 3\\nbudget: 55\\nrevenue: 125\\nunit: Millions\\ncurrency: USD', metadata={'source': 'movies.csv', 'row': 64}),\n",
       " Document(page_content='movie_id: 166\\ntitle: Neon Nostalgia\\nindustry: Thriller\\nrelease_year: 2021\\nimdb_rating: 7.8\\nstudio: Shadowplay Studios\\nlanguage_id: 5\\nbudget: 75\\nrevenue: 180\\nunit: Millions\\ncurrency: USD', metadata={'source': 'movies.csv', 'row': 65}),\n",
       " Document(page_content='movie_id: 167\\ntitle: Lunar Legends\\nindustry: Fantasy\\nrelease_year: 2023\\nimdb_rating: 8.1\\nstudio: Moonlight Magic\\nlanguage_id: 4\\nbudget: 90\\nrevenue: 220\\nunit: Millions\\ncurrency: USD', metadata={'source': 'movies.csv', 'row': 66}),\n",
       " Document(page_content=\"movie_id: 168\\ntitle: Whistleblower's End\\nindustry: War\\nrelease_year: 2022\\nimdb_rating: 6.5\\nstudio: Warrior Productions\\nlanguage_id: 5\\nbudget: 190\\nrevenue: 400\\nunit: Millions\\ncurrency: USD\", metadata={'source': 'movies.csv', 'row': 67}),\n",
       " Document(page_content='movie_id: 169\\ntitle: Quantum Quandaries 3\\nindustry: Sci-Fi\\nrelease_year: 2021\\nimdb_rating: 7.6\\nstudio: Paradoxical Conclusions\\nlanguage_id: 5\\nbudget: 120\\nrevenue: 290\\nunit: Millions\\ncurrency: USD', metadata={'source': 'movies.csv', 'row': 68}),\n",
       " Document(page_content='movie_id: 170\\ntitle: Moonlit Memories\\nindustry: Romance\\nrelease_year: 2023\\nimdb_rating: 8.3\\nstudio: LoveStory Legends\\nlanguage_id: 1\\nbudget: 60\\nrevenue: 150\\nunit: Millions\\ncurrency: USD', metadata={'source': 'movies.csv', 'row': 69}),\n",
       " Document(page_content='movie_id: 171\\ntitle: Stardust Soiree\\nindustry: Romance\\nrelease_year: 2022\\nimdb_rating: 8\\nstudio: Celestial Romance\\nlanguage_id: 1\\nbudget: 65\\nrevenue: 160\\nunit: Millions\\ncurrency: USD', metadata={'source': 'movies.csv', 'row': 70}),\n",
       " Document(page_content='movie_id: 172\\ntitle: Quantum Quasar\\nindustry: Sci-Fi\\nrelease_year: 2023\\nimdb_rating: 7.5\\nstudio: Astral Adventures\\nlanguage_id: 5\\nbudget: 110\\nrevenue: 260\\nunit: Millions\\ncurrency: USD', metadata={'source': 'movies.csv', 'row': 71}),\n",
       " Document(page_content='movie_id: 173\\ntitle: Spectral Shadows\\nindustry: Horror\\nrelease_year: 2021\\nimdb_rating: 6.8\\nstudio: Mystic Frights\\nlanguage_id: 4\\nbudget: 70\\nrevenue: 140\\nunit: Millions\\ncurrency: USD', metadata={'source': 'movies.csv', 'row': 72}),\n",
       " Document(page_content='movie_id: 174\\ntitle: Whimsical Whirlwind\\nindustry: Comedy\\nrelease_year: 2023\\nimdb_rating: 7.1\\nstudio: Joyful Jesters\\nlanguage_id: 2\\nbudget: 45\\nrevenue: 110\\nunit: Millions\\ncurrency: USD', metadata={'source': 'movies.csv', 'row': 73}),\n",
       " Document(page_content='movie_id: 175\\ntitle: Echoes of Eternity\\nindustry: Fantasy\\nrelease_year: 2022\\nimdb_rating: 7.9\\nstudio: Dreamscape Dreams\\nlanguage_id: 4\\nbudget: 80\\nrevenue: 190\\nunit: Millions\\ncurrency: USD', metadata={'source': 'movies.csv', 'row': 74}),\n",
       " Document(page_content='movie_id: 176\\ntitle: Silent Symphony II\\nindustry: Drama\\nrelease_year: 2021\\nimdb_rating: 8.3\\nstudio: Serene Sequels\\nlanguage_id: 1\\nbudget: 30\\nrevenue: 90\\nunit: Millions\\ncurrency: USD', metadata={'source': 'movies.csv', 'row': 75}),\n",
       " Document(page_content='movie_id: 177\\ntitle: Lost in Limbo\\nindustry: Adventure\\nrelease_year: 2023\\nimdb_rating: 7.5\\nstudio: Realm Roamers\\nlanguage_id: 5\\nbudget: 95\\nrevenue: 210\\nunit: Millions\\ncurrency: USD', metadata={'source': 'movies.csv', 'row': 76}),\n",
       " Document(page_content='movie_id: 178\\ntitle: Whispering Willows\\nindustry: Horror\\nrelease_year: 2022\\nimdb_rating: 6.9\\nstudio: Eerie Enchantments\\nlanguage_id: 4\\nbudget: 55\\nrevenue: 120\\nunit: Millions\\ncurrency: USD', metadata={'source': 'movies.csv', 'row': 77}),\n",
       " Document(page_content='movie_id: 179\\ntitle: Starlight Sonata II\\nindustry: Musical\\nrelease_year: 2021\\nimdb_rating: 8.5\\nstudio: Harmonic Heights\\nlanguage_id: 1\\nbudget: 50\\nrevenue: 125\\nunit: Millions\\ncurrency: USD', metadata={'source': 'movies.csv', 'row': 78}),\n",
       " Document(page_content='movie_id: 180\\ntitle: Moonlit Mosaic\\nindustry: Animation\\nrelease_year: 2023\\nimdb_rating: 7.7\\nstudio: Cosmic Cartoons\\nlanguage_id: 4\\nbudget: 70\\nrevenue: 160\\nunit: Millions\\ncurrency: USD', metadata={'source': 'movies.csv', 'row': 79}),\n",
       " Document(page_content=\"movie_id: 181\\ntitle: Enigma's Return\\nindustry: Drama\\nrelease_year: 2022\\nimdb_rating: 8\\nstudio: Mystery Mindset Films\\nlanguage_id: 1\\nbudget: 35\\nrevenue: 100\\nunit: Millions\\ncurrency: USD\", metadata={'source': 'movies.csv', 'row': 80}),\n",
       " Document(page_content='movie_id: 182\\ntitle: Sonic Symphony II\\nindustry: Musical\\nrelease_year: 2021\\nimdb_rating: 7.7\\nstudio: WhizKid Studios\\nlanguage_id: 4\\nbudget: 55\\nrevenue: 135\\nunit: Millions\\ncurrency: USD', metadata={'source': 'movies.csv', 'row': 81}),\n",
       " Document(page_content='movie_id: 183\\ntitle: Neon Nights II\\nindustry: Thriller\\nrelease_year: 2023\\nimdb_rating: 7.8\\nstudio: Shadowplay Sequels\\nlanguage_id: 5\\nbudget: 75\\nrevenue: 180\\nunit: Millions\\ncurrency: USD', metadata={'source': 'movies.csv', 'row': 82}),\n",
       " Document(page_content='movie_id: 184\\ntitle: Lunar Legends II\\nindustry: Fantasy\\nrelease_year: 2022\\nimdb_rating: 8.1\\nstudio: Moonlight Magic\\nlanguage_id: 4\\nbudget: 90\\nrevenue: 220\\nunit: Millions\\ncurrency: USD', metadata={'source': 'movies.csv', 'row': 83}),\n",
       " Document(page_content=\"movie_id: 185\\ntitle: Whistleblower's Legacy\\nindustry: War\\nrelease_year: 2021\\nimdb_rating: 6.5\\nstudio: Warrior Productions\\nlanguage_id: 5\\nbudget: 200\\nrevenue: 420\\nunit: Millions\\ncurrency: USD\", metadata={'source': 'movies.csv', 'row': 84}),\n",
       " Document(page_content='movie_id: 186\\ntitle: Quantum Quest II\\nindustry: Sci-Fi\\nrelease_year: 2023\\nimdb_rating: 7.6\\nstudio: Infinity Entertainments\\nlanguage_id: 5\\nbudget: 120\\nrevenue: 290\\nunit: Millions\\ncurrency: USD', metadata={'source': 'movies.csv', 'row': 85}),\n",
       " Document(page_content='movie_id: 187\\ntitle: Whispers in the Dark II\\nindustry: Horror\\nrelease_year: 2022\\nimdb_rating: 6.8\\nstudio: Chill Sequels\\nlanguage_id: 4\\nbudget: 65\\nrevenue: 140\\nunit: Millions\\ncurrency: USD', metadata={'source': 'movies.csv', 'row': 86}),\n",
       " Document(page_content='movie_id: 188\\ntitle: Ethereal Echoes II\\nindustry: Fantasy\\nrelease_year: 2021\\nimdb_rating: 8.2\\nstudio: Dreamscape Films\\nlanguage_id: 4\\nbudget: 85\\nrevenue: 200\\nunit: Millions\\ncurrency: USD', metadata={'source': 'movies.csv', 'row': 87}),\n",
       " Document(page_content='movie_id: 189\\ntitle: Whirlwind of Wonders II\\nindustry: Comedy\\nrelease_year: 2023\\nimdb_rating: 6.7\\nstudio: Joyful Pictures\\nlanguage_id: 2\\nbudget: 40\\nrevenue: 95\\nunit: Millions\\ncurrency: USD', metadata={'source': 'movies.csv', 'row': 88}),\n",
       " Document(page_content='movie_id: 190\\ntitle: Chronicles of Celestia II\\nindustry: Fantasy\\nrelease_year: 2023\\nimdb_rating: 7.9\\nstudio: Ethereal Studios\\nlanguage_id: 5\\nbudget: 130\\nrevenue: 310\\nunit: Millions\\ncurrency: USD', metadata={'source': 'movies.csv', 'row': 89}),\n",
       " Document(page_content='movie_id: 191\\ntitle: The Silent Symphony III\\nindustry: Drama\\nrelease_year: 2021\\nimdb_rating: 8.3\\nstudio: Serene Films\\nlanguage_id: 1\\nbudget: 25\\nrevenue: 80\\nunit: Millions\\ncurrency: USD', metadata={'source': 'movies.csv', 'row': 90}),\n",
       " Document(page_content='movie_id: 192\\ntitle: Infinite Horizons II\\nindustry: Sci-Fi\\nrelease_year: 2022\\nimdb_rating: 7.6\\nstudio: Cosmic Productions\\nlanguage_id: 5\\nbudget: 95\\nrevenue: 220\\nunit: Millions\\ncurrency: USD', metadata={'source': 'movies.csv', 'row': 91}),\n",
       " Document(page_content='movie_id: 193\\ntitle: Whispering Shadows II\\nindustry: Thriller\\nrelease_year: 2023\\nimdb_rating: 7.2\\nstudio: Shadowcraft Films\\nlanguage_id: 3\\nbudget: 55\\nrevenue: 130\\nunit: Millions\\ncurrency: USD', metadata={'source': 'movies.csv', 'row': 92}),\n",
       " Document(page_content='movie_id: 194\\ntitle: Eternal Echoes II\\nindustry: Romance\\nrelease_year: 2022\\nimdb_rating: 7.1\\nstudio: Romantic Dreams\\nlanguage_id: 1\\nbudget: 60\\nrevenue: 120\\nunit: Millions\\ncurrency: USD', metadata={'source': 'movies.csv', 'row': 93}),\n",
       " Document(page_content='movie_id: 195\\ntitle: Rogue Agents II\\nindustry: Action\\nrelease_year: 2021\\nimdb_rating: 6.5\\nstudio: ThunderStrike Productions\\nlanguage_id: 5\\nbudget: 150\\nrevenue: 320\\nunit: Millions\\ncurrency: USD', metadata={'source': 'movies.csv', 'row': 94}),\n",
       " Document(page_content='movie_id: 196\\ntitle: Lost in Time II\\nindustry: Adventure\\nrelease_year: 2021\\nimdb_rating: 7.8\\nstudio: Timeless Pictures\\nlanguage_id: 2\\nbudget: 70\\nrevenue: 180\\nunit: Millions\\ncurrency: USD', metadata={'source': 'movies.csv', 'row': 95}),\n",
       " Document(page_content='movie_id: 197\\ntitle: Space Serenade II\\nindustry: Sci-Fi\\nrelease_year: 2023\\nimdb_rating: 7.3\\nstudio: Cosmic Studios\\nlanguage_id: 5\\nbudget: 110\\nrevenue: 250\\nunit: Millions\\ncurrency: USD', metadata={'source': 'movies.csv', 'row': 96}),\n",
       " Document(page_content='movie_id: 198\\ntitle: Whispers in the Wind II\\nindustry: Drama\\nrelease_year: 2022\\nimdb_rating: 8.5\\nstudio: Serene Films\\nlanguage_id: 1\\nbudget: 30\\nrevenue: 90\\nunit: Millions\\ncurrency: USD', metadata={'source': 'movies.csv', 'row': 97}),\n",
       " Document(page_content='movie_id: 199\\ntitle: Midnight Masquerade II\\nindustry: Mystery\\nrelease_year: 2023\\nimdb_rating: 7\\nstudio: Enigma Entertainment\\nlanguage_id: 3\\nbudget: 45\\nrevenue: 110\\nunit: Millions\\ncurrency: USD', metadata={'source': 'movies.csv', 'row': 98}),\n",
       " Document(page_content='movie_id: 200\\ntitle: Legacy of Legends II\\nindustry: Action\\nrelease_year: 2022\\nimdb_rating: 8\\nstudio: Epic Productions\\nlanguage_id: 5\\nbudget: 200\\nrevenue: 480\\nunit: Millions\\ncurrency: USD', metadata={'source': 'movies.csv', 'row': 99}),\n",
       " Document(page_content='movie_id: 201\\ntitle: Enchanted Symphony II\\nindustry: Animation\\nrelease_year: 2021\\nimdb_rating: 7.6\\nstudio: Magical Studios\\nlanguage_id: 4\\nbudget: 75\\nrevenue: 160\\nunit: Millions\\ncurrency: USD', metadata={'source': 'movies.csv', 'row': 100}),\n",
       " Document(page_content='movie_id: 202\\ntitle: Whirlwind of Wonders III\\nindustry: Comedy\\nrelease_year: 2023\\nimdb_rating: 6.7\\nstudio: Joyful Pictures\\nlanguage_id: 2\\nbudget: 40\\nrevenue: 95\\nunit: Millions\\ncurrency: USD', metadata={'source': 'movies.csv', 'row': 101}),\n",
       " Document(page_content='movie_id: 203\\ntitle: Chronicles of Celestia III\\nindustry: Fantasy\\nrelease_year: 2023\\nimdb_rating: 7.9\\nstudio: Ethereal Studios\\nlanguage_id: 5\\nbudget: 130\\nrevenue: 310\\nunit: Millions\\ncurrency: USD', metadata={'source': 'movies.csv', 'row': 102}),\n",
       " Document(page_content='movie_id: 204\\ntitle: The Silent Symphony IV\\nindustry: Drama\\nrelease_year: 2021\\nimdb_rating: 8.3\\nstudio: Serene Films\\nlanguage_id: 1\\nbudget: 25\\nrevenue: 80\\nunit: Millions\\ncurrency: USD', metadata={'source': 'movies.csv', 'row': 103}),\n",
       " Document(page_content='movie_id: 205\\ntitle: Infinite Horizons III\\nindustry: Sci-Fi\\nrelease_year: 2022\\nimdb_rating: 7.6\\nstudio: Cosmic Productions\\nlanguage_id: 5\\nbudget: 95\\nrevenue: 220\\nunit: Millions\\ncurrency: USD', metadata={'source': 'movies.csv', 'row': 104}),\n",
       " Document(page_content='movie_id: 206\\ntitle: Whispering Shadows III\\nindustry: Thriller\\nrelease_year: 2023\\nimdb_rating: 7.2\\nstudio: Shadowcraft Films\\nlanguage_id: 3\\nbudget: 55\\nrevenue: 130\\nunit: Millions\\ncurrency: USD', metadata={'source': 'movies.csv', 'row': 105}),\n",
       " Document(page_content='movie_id: 207\\ntitle: Eternal Echoes III\\nindustry: Romance\\nrelease_year: 2022\\nimdb_rating: 7.1\\nstudio: Romantic Dreams\\nlanguage_id: 1\\nbudget: 60\\nrevenue: 120\\nunit: Millions\\ncurrency: USD', metadata={'source': 'movies.csv', 'row': 106}),\n",
       " Document(page_content='movie_id: 208\\ntitle: Rogue Agents III\\nindustry: Action\\nrelease_year: 2021\\nimdb_rating: 6.5\\nstudio: ThunderStrike Productions\\nlanguage_id: 5\\nbudget: 150\\nrevenue: 320\\nunit: Millions\\ncurrency: USD', metadata={'source': 'movies.csv', 'row': 107}),\n",
       " Document(page_content='movie_id: 209\\ntitle: Lost in Time III\\nindustry: Adventure\\nrelease_year: 2021\\nimdb_rating: 7.8\\nstudio: Timeless Pictures\\nlanguage_id: 2\\nbudget: 70\\nrevenue: 180\\nunit: Millions\\ncurrency: USD', metadata={'source': 'movies.csv', 'row': 108}),\n",
       " Document(page_content='movie_id: 210\\ntitle: Space Serenade III\\nindustry: Sci-Fi\\nrelease_year: 2023\\nimdb_rating: 7.3\\nstudio: Cosmic Studios\\nlanguage_id: 5\\nbudget: 110\\nrevenue: 250\\nunit: Millions\\ncurrency: USD', metadata={'source': 'movies.csv', 'row': 109}),\n",
       " Document(page_content='movie_id: 211\\ntitle: Whispers in the Wind III\\nindustry: Drama\\nrelease_year: 2022\\nimdb_rating: 8.5\\nstudio: Serene Films\\nlanguage_id: 1\\nbudget: 30\\nrevenue: 90\\nunit: Millions\\ncurrency: USD', metadata={'source': 'movies.csv', 'row': 110}),\n",
       " Document(page_content='movie_id: 212\\ntitle: Midnight Masquerade III\\nindustry: Mystery\\nrelease_year: 2023\\nimdb_rating: 7\\nstudio: Enigma Entertainment\\nlanguage_id: 3\\nbudget: 45\\nrevenue: 110\\nunit: Millions\\ncurrency: USD', metadata={'source': 'movies.csv', 'row': 111}),\n",
       " Document(page_content='movie_id: 213\\ntitle: Legacy of Legends III\\nindustry: Action\\nrelease_year: 2022\\nimdb_rating: 8\\nstudio: Epic Productions\\nlanguage_id: 5\\nbudget: 200\\nrevenue: 480\\nunit: Millions\\ncurrency: USD', metadata={'source': 'movies.csv', 'row': 112}),\n",
       " Document(page_content='movie_id: 214\\ntitle: Enchanted Symphony III\\nindustry: Animation\\nrelease_year: 2021\\nimdb_rating: 7.6\\nstudio: Magical Studios\\nlanguage_id: 4\\nbudget: 75\\nrevenue: 160\\nunit: Millions\\ncurrency: USD', metadata={'source': 'movies.csv', 'row': 113}),\n",
       " Document(page_content='movie_id: 215\\ntitle: Whirlwind of Wonders IV\\nindustry: Comedy\\nrelease_year: 2023\\nimdb_rating: 6.7\\nstudio: Joyful Pictures\\nlanguage_id: 2\\nbudget: 40\\nrevenue: 95\\nunit: Millions\\ncurrency: USD', metadata={'source': 'movies.csv', 'row': 114}),\n",
       " Document(page_content='movie_id: 216\\ntitle: Chronicles of Celestia IV\\nindustry: Fantasy\\nrelease_year: 2023\\nimdb_rating: 7.9\\nstudio: Ethereal Studios\\nlanguage_id: 5\\nbudget: 130\\nrevenue: 310\\nunit: Millions\\ncurrency: USD', metadata={'source': 'movies.csv', 'row': 115}),\n",
       " Document(page_content='movie_id: 217\\ntitle: The Silent Symphony V\\nindustry: Drama\\nrelease_year: 2021\\nimdb_rating: 8.3\\nstudio: Serene Films\\nlanguage_id: 1\\nbudget: 25\\nrevenue: 80\\nunit: Millions\\ncurrency: USD', metadata={'source': 'movies.csv', 'row': 116}),\n",
       " Document(page_content='movie_id: 218\\ntitle: Infinite Horizons IV\\nindustry: Sci-Fi\\nrelease_year: 2022\\nimdb_rating: 7.6\\nstudio: Cosmic Productions\\nlanguage_id: 5\\nbudget: 95\\nrevenue: 220\\nunit: Millions\\ncurrency: USD', metadata={'source': 'movies.csv', 'row': 117})]"
      ]
     },
     "execution_count": 5,
     "metadata": {},
     "output_type": "execute_result"
    }
   ],
   "source": [
    "loader = CSVLoader('movies.csv')\n",
    "df = loader.load()\n",
    "df"
   ]
  },
  {
   "cell_type": "code",
   "execution_count": 6,
   "id": "a91b227e",
   "metadata": {},
   "outputs": [
    {
     "data": {
      "text/plain": [
       "[Document(page_content='movie_id: 101\\ntitle: K.G.F: Chapter 2\\nindustry: Bollywood\\nrelease_year: 2022\\nimdb_rating: 8.4\\nstudio: Hombale Films\\nlanguage_id: 3\\nbudget: 1\\nrevenue: 12.5\\nunit: Billions\\ncurrency: INR', metadata={'source': 'K.G.F: Chapter 2', 'row': 0}),\n",
       " Document(page_content='movie_id: 102\\ntitle: Doctor Strange in the Multiverse of Madness\\nindustry: Hollywood\\nrelease_year: 2022\\nimdb_rating: 7\\nstudio: Marvel Studios\\nlanguage_id: 5\\nbudget: 200\\nrevenue: 954.8\\nunit: Millions\\ncurrency: USD', metadata={'source': 'Doctor Strange in the Multiverse of Madness', 'row': 1}),\n",
       " Document(page_content='movie_id: 103\\ntitle: Thor: The Dark World\\nindustry: Hollywood\\nrelease_year: 2013\\nimdb_rating: 6.8\\nstudio: Marvel Studios\\nlanguage_id: 5\\nbudget: 165\\nrevenue: 644.8\\nunit: Millions\\ncurrency: USD', metadata={'source': 'Thor: The Dark World', 'row': 2}),\n",
       " Document(page_content='movie_id: 104\\ntitle: Thor: Ragnarok\\nindustry: Hollywood\\nrelease_year: 2017\\nimdb_rating: 7.9\\nstudio: Marvel Studios\\nlanguage_id: 5\\nbudget: 180\\nrevenue: 854\\nunit: Millions\\ncurrency: USD', metadata={'source': 'Thor: Ragnarok', 'row': 3}),\n",
       " Document(page_content='movie_id: 105\\ntitle: Thor: Love and Thunder\\nindustry: Hollywood\\nrelease_year: 2022\\nimdb_rating: 6.8\\nstudio: Marvel Studios\\nlanguage_id: 5\\nbudget: 250\\nrevenue: 670\\nunit: Millions\\ncurrency: USD', metadata={'source': 'Thor: Love and Thunder', 'row': 4}),\n",
       " Document(page_content='movie_id: 106\\ntitle: Sholay\\nindustry: Bollywood\\nrelease_year: 1975\\nimdb_rating: 8.1\\nstudio: United Producers\\nlanguage_id: 1\\nbudget: Not Available\\nrevenue: Not Available\\nunit: Not Available\\ncurrency: Not Available', metadata={'source': 'Sholay', 'row': 5}),\n",
       " Document(page_content='movie_id: 107\\ntitle: Dilwale Dulhania Le Jayenge\\nindustry: Bollywood\\nrelease_year: 1995\\nimdb_rating: 8\\nstudio: Yash Raj Films\\nlanguage_id: 1\\nbudget: 400\\nrevenue: 2000\\nunit: Millions\\ncurrency: INR', metadata={'source': 'Dilwale Dulhania Le Jayenge', 'row': 6}),\n",
       " Document(page_content='movie_id: 108\\ntitle: 3 Idiots\\nindustry: Bollywood\\nrelease_year: 2009\\nimdb_rating: 8.4\\nstudio: Vinod Chopra Films\\nlanguage_id: 1\\nbudget: 550\\nrevenue: 4000\\nunit: Millions\\ncurrency: INR', metadata={'source': '3 Idiots', 'row': 7}),\n",
       " Document(page_content='movie_id: 109\\ntitle: Kabhi Khushi Kabhie Gham\\nindustry: Bollywood\\nrelease_year: 2001\\nimdb_rating: 7.4\\nstudio: Dharma Productions\\nlanguage_id: 1\\nbudget: 390\\nrevenue: 1360\\nunit: Millions\\ncurrency: INR', metadata={'source': 'Kabhi Khushi Kabhie Gham', 'row': 8}),\n",
       " Document(page_content='movie_id: 110\\ntitle: The Galactic Odyssey\\nindustry: Sci-Fi\\nrelease_year: 2023\\nimdb_rating: 7.5\\nstudio: Starlight Studios\\nlanguage_id: 5\\nbudget: 120\\nrevenue: 280\\nunit: Millions\\ncurrency: USD', metadata={'source': 'The Galactic Odyssey', 'row': 9}),\n",
       " Document(page_content='movie_id: 111\\ntitle: Mystical Creatures\\nindustry: Fantasy\\nrelease_year: 2023\\nimdb_rating: 6.9\\nstudio: Enchanting Films\\nlanguage_id: 4\\nbudget: 80\\nrevenue: 150\\nunit: Millions\\ncurrency: USD', metadata={'source': 'Mystical Creatures', 'row': 10}),\n",
       " Document(page_content='movie_id: 112\\ntitle: Secrets of the Abyss\\nindustry: Adventure\\nrelease_year: 2021\\nimdb_rating: 8.2\\nstudio: Cinematic Adventures\\nlanguage_id: 5\\nbudget: 90\\nrevenue: 210\\nunit: Millions\\ncurrency: USD', metadata={'source': 'Secrets of the Abyss', 'row': 11}),\n",
       " Document(page_content='movie_id: 113\\ntitle: Eternal Echoes\\nindustry: Romance\\nrelease_year: 2023\\nimdb_rating: 7.1\\nstudio: Romantic Dreams\\nlanguage_id: 1\\nbudget: 60\\nrevenue: 120\\nunit: Millions\\ncurrency: USD', metadata={'source': 'Eternal Echoes', 'row': 12}),\n",
       " Document(page_content='movie_id: 114\\ntitle: Rogue Agents\\nindustry: Action\\nrelease_year: 2022\\nimdb_rating: 6.5\\nstudio: ThunderStrike Productions\\nlanguage_id: 5\\nbudget: 150\\nrevenue: 320\\nunit: Millions\\ncurrency: USD', metadata={'source': 'Rogue Agents', 'row': 13}),\n",
       " Document(page_content='movie_id: 115\\ntitle: Lost in Time\\nindustry: Adventure\\nrelease_year: 2022\\nimdb_rating: 7.8\\nstudio: Timeless Pictures\\nlanguage_id: 2\\nbudget: 70\\nrevenue: 180\\nunit: Millions\\ncurrency: USD', metadata={'source': 'Lost in Time', 'row': 14}),\n",
       " Document(page_content='movie_id: 116\\ntitle: Space Serenade\\nindustry: Sci-Fi\\nrelease_year: 2021\\nimdb_rating: 7.3\\nstudio: Cosmic Studios\\nlanguage_id: 5\\nbudget: 110\\nrevenue: 250\\nunit: Millions\\ncurrency: USD', metadata={'source': 'Space Serenade', 'row': 15}),\n",
       " Document(page_content='movie_id: 117\\ntitle: Whispers in the Wind\\nindustry: Drama\\nrelease_year: 2023\\nimdb_rating: 8.5\\nstudio: Serene Films\\nlanguage_id: 1\\nbudget: 30\\nrevenue: 90\\nunit: Millions\\ncurrency: USD', metadata={'source': 'Whispers in the Wind', 'row': 16}),\n",
       " Document(page_content='movie_id: 118\\ntitle: Midnight Masquerade\\nindustry: Mystery\\nrelease_year: 2022\\nimdb_rating: 7\\nstudio: Enigma Entertainment\\nlanguage_id: 3\\nbudget: 45\\nrevenue: 110\\nunit: Millions\\ncurrency: USD', metadata={'source': 'Midnight Masquerade', 'row': 17}),\n",
       " Document(page_content='movie_id: 119\\ntitle: Legacy of Legends\\nindustry: Action\\nrelease_year: 2023\\nimdb_rating: 8\\nstudio: Epic Productions\\nlanguage_id: 5\\nbudget: 200\\nrevenue: 480\\nunit: Millions\\ncurrency: USD', metadata={'source': 'Legacy of Legends', 'row': 18}),\n",
       " Document(page_content='movie_id: 120\\ntitle: Enchanted Symphony\\nindustry: Animation\\nrelease_year: 2022\\nimdb_rating: 7.6\\nstudio: Magical Studios\\nlanguage_id: 4\\nbudget: 75\\nrevenue: 160\\nunit: Millions\\ncurrency: USD', metadata={'source': 'Enchanted Symphony', 'row': 19}),\n",
       " Document(page_content='movie_id: 121\\ntitle: Whirlwind of Wonders\\nindustry: Comedy\\nrelease_year: 2021\\nimdb_rating: 6.7\\nstudio: Joyful Pictures\\nlanguage_id: 2\\nbudget: 40\\nrevenue: 95\\nunit: Millions\\ncurrency: USD', metadata={'source': 'Whirlwind of Wonders', 'row': 20}),\n",
       " Document(page_content='movie_id: 122\\ntitle: Chronicles of Celestia\\nindustry: Fantasy\\nrelease_year: 2022\\nimdb_rating: 7.9\\nstudio: Ethereal Studios\\nlanguage_id: 5\\nbudget: 130\\nrevenue: 310\\nunit: Millions\\ncurrency: USD', metadata={'source': 'Chronicles of Celestia', 'row': 21}),\n",
       " Document(page_content='movie_id: 123\\ntitle: The Silent Symphony\\nindustry: Drama\\nrelease_year: 2023\\nimdb_rating: 8.3\\nstudio: Serene Films\\nlanguage_id: 1\\nbudget: 25\\nrevenue: 80\\nunit: Millions\\ncurrency: USD', metadata={'source': 'The Silent Symphony', 'row': 22}),\n",
       " Document(page_content='movie_id: 124\\ntitle: Infinite Horizons\\nindustry: Sci-Fi\\nrelease_year: 2022\\nimdb_rating: 7.6\\nstudio: Cosmic Productions\\nlanguage_id: 5\\nbudget: 95\\nrevenue: 220\\nunit: Millions\\ncurrency: USD', metadata={'source': 'Infinite Horizons', 'row': 23}),\n",
       " Document(page_content='movie_id: 125\\ntitle: Whispering Shadows\\nindustry: Thriller\\nrelease_year: 2023\\nimdb_rating: 7.2\\nstudio: Shadowcraft Films\\nlanguage_id: 3\\nbudget: 55\\nrevenue: 130\\nunit: Millions\\ncurrency: USD', metadata={'source': 'Whispering Shadows', 'row': 24}),\n",
       " Document(page_content='movie_id: 126\\ntitle: Stardust Serenade\\nindustry: Romance\\nrelease_year: 2022\\nimdb_rating: 8\\nstudio: Starstruck Entertainment\\nlanguage_id: 1\\nbudget: 70\\nrevenue: 180\\nunit: Millions\\ncurrency: USD', metadata={'source': 'Stardust Serenade', 'row': 25}),\n",
       " Document(page_content='movie_id: 127\\ntitle: Quantum Quandary\\nindustry: Sci-Fi\\nrelease_year: 2021\\nimdb_rating: 7.4\\nstudio: Paradox Pictures\\nlanguage_id: 5\\nbudget: 85\\nrevenue: 200\\nunit: Millions\\ncurrency: USD', metadata={'source': 'Quantum Quandary', 'row': 26}),\n",
       " Document(page_content='movie_id: 128\\ntitle: Moonlit Melodies\\nindustry: Musical\\nrelease_year: 2023\\nimdb_rating: 7.7\\nstudio: Harmony Productions\\nlanguage_id: 1\\nbudget: 50\\nrevenue: 120\\nunit: Millions\\ncurrency: USD', metadata={'source': 'Moonlit Melodies', 'row': 27}),\n",
       " Document(page_content='movie_id: 129\\ntitle: Perilous Pursuit\\nindustry: Action\\nrelease_year: 2022\\nimdb_rating: 6.8\\nstudio: Danger Zone Films\\nlanguage_id: 5\\nbudget: 180\\nrevenue: 380\\nunit: Millions\\ncurrency: USD', metadata={'source': 'Perilous Pursuit', 'row': 28}),\n",
       " Document(page_content='movie_id: 130\\ntitle: Whimsical Whodunit\\nindustry: Mystery\\nrelease_year: 2021\\nimdb_rating: 7.1\\nstudio: Sleuth Studios\\nlanguage_id: 3\\nbudget: 45\\nrevenue: 110\\nunit: Millions\\ncurrency: USD', metadata={'source': 'Whimsical Whodunit', 'row': 29}),\n",
       " Document(page_content='movie_id: 131\\ntitle: Heartstrings Harmony\\nindustry: Romance\\nrelease_year: 2023\\nimdb_rating: 8.2\\nstudio: LoveLane Films\\nlanguage_id: 1\\nbudget: 65\\nrevenue: 150\\nunit: Millions\\ncurrency: USD', metadata={'source': 'Heartstrings Harmony', 'row': 30}),\n",
       " Document(page_content='movie_id: 132\\ntitle: Supernova Secrets\\nindustry: Sci-Fi\\nrelease_year: 2022\\nimdb_rating: 7.5\\nstudio: Astral Studios\\nlanguage_id: 5\\nbudget: 110\\nrevenue: 260\\nunit: Millions\\ncurrency: USD', metadata={'source': 'Supernova Secrets', 'row': 31}),\n",
       " Document(page_content='movie_id: 133\\ntitle: Realm of Riddles\\nindustry: Mystery\\nrelease_year: 2021\\nimdb_rating: 7\\nstudio: Puzzle Productions\\nlanguage_id: 3\\nbudget: 55\\nrevenue: 125\\nunit: Millions\\ncurrency: USD', metadata={'source': 'Realm of Riddles', 'row': 32}),\n",
       " Document(page_content='movie_id: 134\\ntitle: Neon Nights\\nindustry: Thriller\\nrelease_year: 2023\\nimdb_rating: 7.8\\nstudio: Shadowplay Films\\nlanguage_id: 5\\nbudget: 75\\nrevenue: 180\\nunit: Millions\\ncurrency: USD', metadata={'source': 'Neon Nights', 'row': 33}),\n",
       " Document(page_content='movie_id: 135\\ntitle: Lunar Legends\\nindustry: Fantasy\\nrelease_year: 2022\\nimdb_rating: 8.1\\nstudio: Moonlight Studios\\nlanguage_id: 4\\nbudget: 90\\nrevenue: 220\\nunit: Millions\\ncurrency: USD', metadata={'source': 'Lunar Legends', 'row': 34}),\n",
       " Document(page_content='movie_id: 136\\ntitle: Whistleblower\\nindustry: War\\nrelease_year: 2021\\nimdb_rating: 6.5\\nstudio: Battlefront Films\\nlanguage_id: 5\\nbudget: 200\\nrevenue: 420\\nunit: Millions\\ncurrency: USD', metadata={'source': 'Whistleblower', 'row': 35}),\n",
       " Document(page_content='movie_id: 137\\ntitle: Quantum Quest\\nindustry: Sci-Fi\\nrelease_year: 2023\\nimdb_rating: 7.6\\nstudio: Infinity Entertainment\\nlanguage_id: 5\\nbudget: 120\\nrevenue: 290\\nunit: Millions\\ncurrency: USD', metadata={'source': 'Quantum Quest', 'row': 36}),\n",
       " Document(page_content='movie_id: 138\\ntitle: Serendipity Springs\\nindustry: Romance\\nrelease_year: 2022\\nimdb_rating: 8.3\\nstudio: LoveStory Productions\\nlanguage_id: 1\\nbudget: 60\\nrevenue: 150\\nunit: Millions\\ncurrency: USD', metadata={'source': 'Serendipity Springs', 'row': 37}),\n",
       " Document(page_content='movie_id: 139\\ntitle: Rogue Run\\nindustry: Thriller\\nrelease_year: 2021\\nimdb_rating: 6.9\\nstudio: Adrenaline Rush Films\\nlanguage_id: 5\\nbudget: 150\\nrevenue: 320\\nunit: Millions\\ncurrency: USD', metadata={'source': 'Rogue Run', 'row': 38}),\n",
       " Document(page_content='movie_id: 140\\ntitle: Cosmic Cascade\\nindustry: Sci-Fi\\nrelease_year: 2023\\nimdb_rating: 7.4\\nstudio: Cosmos Studios\\nlanguage_id: 5\\nbudget: 100\\nrevenue: 240\\nunit: Millions\\ncurrency: USD', metadata={'source': 'Cosmic Cascade', 'row': 39}),\n",
       " Document(page_content='movie_id: 141\\ntitle: Blazing Trails\\nindustry: Western\\nrelease_year: 2022\\nimdb_rating: 7.2\\nstudio: Frontier Films\\nlanguage_id: 5\\nbudget: 80\\nrevenue: 170\\nunit: Millions\\ncurrency: USD', metadata={'source': 'Blazing Trails', 'row': 40}),\n",
       " Document(page_content='movie_id: 142\\ntitle: Moonlit Masquerade\\nindustry: Mystery\\nrelease_year: 2021\\nimdb_rating: 7.5\\nstudio: Mystique Productions\\nlanguage_id: 3\\nbudget: 50\\nrevenue: 115\\nunit: Millions\\ncurrency: USD', metadata={'source': 'Moonlit Masquerade', 'row': 41}),\n",
       " Document(page_content='movie_id: 143\\ntitle: Whispers in the Dark\\nindustry: Horror\\nrelease_year: 2023\\nimdb_rating: 6.8\\nstudio: Chill Studios\\nlanguage_id: 4\\nbudget: 65\\nrevenue: 140\\nunit: Millions\\ncurrency: USD', metadata={'source': 'Whispers in the Dark', 'row': 42}),\n",
       " Document(page_content=\"movie_id: 144\\ntitle: Enigma's Embrace\\nindustry: Drama\\nrelease_year: 2022\\nimdb_rating: 8\\nstudio: Mystery Mindset Films\\nlanguage_id: 1\\nbudget: 35\\nrevenue: 100\\nunit: Millions\\ncurrency: USD\", metadata={'source': \"Enigma's Embrace\", 'row': 43}),\n",
       " Document(page_content='movie_id: 145\\ntitle: Sonic Symphony\\nindustry: Animation\\nrelease_year: 2021\\nimdb_rating: 7.7\\nstudio: WhizKid Studios\\nlanguage_id: 4\\nbudget: 70\\nrevenue: 160\\nunit: Millions\\ncurrency: USD', metadata={'source': 'Sonic Symphony', 'row': 44}),\n",
       " Document(page_content='movie_id: 146\\ntitle: Starlight Sonata\\nindustry: Musical\\nrelease_year: 2023\\nimdb_rating: 8.5\\nstudio: Harmonic Heights\\nlanguage_id: 1\\nbudget: 55\\nrevenue: 130\\nunit: Millions\\ncurrency: USD', metadata={'source': 'Starlight Sonata', 'row': 45}),\n",
       " Document(page_content=\"movie_id: 147\\ntitle: Neptune's Nexus\\nindustry: Adventure\\nrelease_year: 2022\\nimdb_rating: 7.3\\nstudio: Seafarer Productions\\nlanguage_id: 5\\nbudget: 95\\nrevenue: 210\\nunit: Millions\\ncurrency: USD\", metadata={'source': \"Neptune's Nexus\", 'row': 46}),\n",
       " Document(page_content='movie_id: 148\\ntitle: Ethereal Echoes\\nindustry: Fantasy\\nrelease_year: 2021\\nimdb_rating: 8.2\\nstudio: Dreamscape Films\\nlanguage_id: 4\\nbudget: 85\\nrevenue: 200\\nunit: Millions\\ncurrency: USD', metadata={'source': 'Ethereal Echoes', 'row': 47}),\n",
       " Document(page_content='movie_id: 149\\ntitle: Whirlwind Romance\\nindustry: Romance\\nrelease_year: 2023\\nimdb_rating: 7.9\\nstudio: LoveStorm Productions\\nlanguage_id: 1\\nbudget: 75\\nrevenue: 180\\nunit: Millions\\ncurrency: USD', metadata={'source': 'Whirlwind Romance', 'row': 48}),\n",
       " Document(page_content='movie_id: 150\\ntitle: Midnight Mirage\\nindustry: Thriller\\nrelease_year: 2022\\nimdb_rating: 7.1\\nstudio: Mystique Films\\nlanguage_id: 5\\nbudget: 110\\nrevenue: 250\\nunit: Millions\\ncurrency: USD', metadata={'source': 'Midnight Mirage', 'row': 49}),\n",
       " Document(page_content='movie_id: 151\\ntitle: Rogue Raiders\\nindustry: Action\\nrelease_year: 2021\\nimdb_rating: 6.6\\nstudio: Thunderstrike Films\\nlanguage_id: 5\\nbudget: 180\\nrevenue: 380\\nunit: Millions\\ncurrency: USD', metadata={'source': 'Rogue Raiders', 'row': 50}),\n",
       " Document(page_content='movie_id: 152\\ntitle: Whispering Woods\\nindustry: Horror\\nrelease_year: 2023\\nimdb_rating: 6.9\\nstudio: Eerie Entertainment\\nlanguage_id: 4\\nbudget: 60\\nrevenue: 130\\nunit: Millions\\ncurrency: USD', metadata={'source': 'Whispering Woods', 'row': 51}),\n",
       " Document(page_content='movie_id: 153\\ntitle: Lost Legends\\nindustry: Fantasy\\nrelease_year: 2022\\nimdb_rating: 7.8\\nstudio: Mythic Movies\\nlanguage_id: 4\\nbudget: 95\\nrevenue: 220\\nunit: Millions\\ncurrency: USD', metadata={'source': 'Lost Legends', 'row': 52}),\n",
       " Document(page_content='movie_id: 154\\ntitle: Starry Serenade\\nindustry: Musical\\nrelease_year: 2021\\nimdb_rating: 8.1\\nstudio: Harmony Haven\\nlanguage_id: 1\\nbudget: 50\\nrevenue: 120\\nunit: Millions\\ncurrency: USD', metadata={'source': 'Starry Serenade', 'row': 53}),\n",
       " Document(page_content='movie_id: 155\\ntitle: Quantum Quandaries\\nindustry: Sci-Fi\\nrelease_year: 2023\\nimdb_rating: 7.5\\nstudio: Paradoxical Productions\\nlanguage_id: 5\\nbudget: 125\\nrevenue: 280\\nunit: Millions\\ncurrency: USD', metadata={'source': 'Quantum Quandaries', 'row': 54}),\n",
       " Document(page_content='movie_id: 156\\ntitle: Marvelous Melodies\\nindustry: Musical\\nrelease_year: 2022\\nimdb_rating: 7.7\\nstudio: Celestial Studios\\nlanguage_id: 1\\nbudget: 55\\nrevenue: 140\\nunit: Millions\\ncurrency: USD', metadata={'source': 'Marvelous Melodies', 'row': 55}),\n",
       " Document(page_content='movie_id: 157\\ntitle: Whimsical Wonders\\nindustry: Comedy\\nrelease_year: 2021\\nimdb_rating: 6.8\\nstudio: Joyful Journeys\\nlanguage_id: 2\\nbudget: 40\\nrevenue: 100\\nunit: Millions\\ncurrency: USD', metadata={'source': 'Whimsical Wonders', 'row': 56}),\n",
       " Document(page_content='movie_id: 158\\ntitle: Chronicles of Chaos\\nindustry: Adventure\\nrelease_year: 2023\\nimdb_rating: 8.4\\nstudio: Epic Expeditions\\nlanguage_id: 5\\nbudget: 110\\nrevenue: 260\\nunit: Millions\\ncurrency: USD', metadata={'source': 'Chronicles of Chaos', 'row': 57}),\n",
       " Document(page_content='movie_id: 159\\ntitle: Lunar Lullaby\\nindustry: Animation\\nrelease_year: 2022\\nimdb_rating: 7.3\\nstudio: DreamWorks Delight\\nlanguage_id: 4\\nbudget: 75\\nrevenue: 160\\nunit: Millions\\ncurrency: USD', metadata={'source': 'Lunar Lullaby', 'row': 58}),\n",
       " Document(page_content=\"movie_id: 160\\ntitle: Whistleblower's War\\nindustry: War\\nrelease_year: 2021\\nimdb_rating: 6.5\\nstudio: Warrior Films\\nlanguage_id: 5\\nbudget: 190\\nrevenue: 400\\nunit: Millions\\ncurrency: USD\", metadata={'source': \"Whistleblower's War\", 'row': 59}),\n",
       " Document(page_content='movie_id: 161\\ntitle: Quantum Quandary 2\\nindustry: Sci-Fi\\nrelease_year: 2023\\nimdb_rating: 7.7\\nstudio: Paradoxical Sequels\\nlanguage_id: 5\\nbudget: 130\\nrevenue: 310\\nunit: Millions\\ncurrency: USD', metadata={'source': 'Quantum Quandary 2', 'row': 60}),\n",
       " Document(page_content='movie_id: 162\\ntitle: Ethereal Enigma\\nindustry: Mystery\\nrelease_year: 2022\\nimdb_rating: 7.1\\nstudio: Mystery Makers\\nlanguage_id: 3\\nbudget: 50\\nrevenue: 115\\nunit: Millions\\ncurrency: USD', metadata={'source': 'Ethereal Enigma', 'row': 61}),\n",
       " Document(page_content='movie_id: 163\\ntitle: Whispers of War\\nindustry: War\\nrelease_year: 2021\\nimdb_rating: 6.6\\nstudio: Battlefront Studios\\nlanguage_id: 5\\nbudget: 200\\nrevenue: 420\\nunit: Millions\\ncurrency: USD', metadata={'source': 'Whispers of War', 'row': 62}),\n",
       " Document(page_content='movie_id: 164\\ntitle: Starlight Symphony\\nindustry: Musical\\nrelease_year: 2023\\nimdb_rating: 8.2\\nstudio: Harmony Heights\\nlanguage_id: 1\\nbudget: 55\\nrevenue: 130\\nunit: Millions\\ncurrency: USD', metadata={'source': 'Starlight Symphony', 'row': 63}),\n",
       " Document(page_content='movie_id: 165\\ntitle: Romantic Riddles\\nindustry: Mystery\\nrelease_year: 2022\\nimdb_rating: 7\\nstudio: Puzzle Pictures\\nlanguage_id: 3\\nbudget: 55\\nrevenue: 125\\nunit: Millions\\ncurrency: USD', metadata={'source': 'Romantic Riddles', 'row': 64}),\n",
       " Document(page_content='movie_id: 166\\ntitle: Neon Nostalgia\\nindustry: Thriller\\nrelease_year: 2021\\nimdb_rating: 7.8\\nstudio: Shadowplay Studios\\nlanguage_id: 5\\nbudget: 75\\nrevenue: 180\\nunit: Millions\\ncurrency: USD', metadata={'source': 'Neon Nostalgia', 'row': 65}),\n",
       " Document(page_content='movie_id: 167\\ntitle: Lunar Legends\\nindustry: Fantasy\\nrelease_year: 2023\\nimdb_rating: 8.1\\nstudio: Moonlight Magic\\nlanguage_id: 4\\nbudget: 90\\nrevenue: 220\\nunit: Millions\\ncurrency: USD', metadata={'source': 'Lunar Legends', 'row': 66}),\n",
       " Document(page_content=\"movie_id: 168\\ntitle: Whistleblower's End\\nindustry: War\\nrelease_year: 2022\\nimdb_rating: 6.5\\nstudio: Warrior Productions\\nlanguage_id: 5\\nbudget: 190\\nrevenue: 400\\nunit: Millions\\ncurrency: USD\", metadata={'source': \"Whistleblower's End\", 'row': 67}),\n",
       " Document(page_content='movie_id: 169\\ntitle: Quantum Quandaries 3\\nindustry: Sci-Fi\\nrelease_year: 2021\\nimdb_rating: 7.6\\nstudio: Paradoxical Conclusions\\nlanguage_id: 5\\nbudget: 120\\nrevenue: 290\\nunit: Millions\\ncurrency: USD', metadata={'source': 'Quantum Quandaries 3', 'row': 68}),\n",
       " Document(page_content='movie_id: 170\\ntitle: Moonlit Memories\\nindustry: Romance\\nrelease_year: 2023\\nimdb_rating: 8.3\\nstudio: LoveStory Legends\\nlanguage_id: 1\\nbudget: 60\\nrevenue: 150\\nunit: Millions\\ncurrency: USD', metadata={'source': 'Moonlit Memories', 'row': 69}),\n",
       " Document(page_content='movie_id: 171\\ntitle: Stardust Soiree\\nindustry: Romance\\nrelease_year: 2022\\nimdb_rating: 8\\nstudio: Celestial Romance\\nlanguage_id: 1\\nbudget: 65\\nrevenue: 160\\nunit: Millions\\ncurrency: USD', metadata={'source': 'Stardust Soiree', 'row': 70}),\n",
       " Document(page_content='movie_id: 172\\ntitle: Quantum Quasar\\nindustry: Sci-Fi\\nrelease_year: 2023\\nimdb_rating: 7.5\\nstudio: Astral Adventures\\nlanguage_id: 5\\nbudget: 110\\nrevenue: 260\\nunit: Millions\\ncurrency: USD', metadata={'source': 'Quantum Quasar', 'row': 71}),\n",
       " Document(page_content='movie_id: 173\\ntitle: Spectral Shadows\\nindustry: Horror\\nrelease_year: 2021\\nimdb_rating: 6.8\\nstudio: Mystic Frights\\nlanguage_id: 4\\nbudget: 70\\nrevenue: 140\\nunit: Millions\\ncurrency: USD', metadata={'source': 'Spectral Shadows', 'row': 72}),\n",
       " Document(page_content='movie_id: 174\\ntitle: Whimsical Whirlwind\\nindustry: Comedy\\nrelease_year: 2023\\nimdb_rating: 7.1\\nstudio: Joyful Jesters\\nlanguage_id: 2\\nbudget: 45\\nrevenue: 110\\nunit: Millions\\ncurrency: USD', metadata={'source': 'Whimsical Whirlwind', 'row': 73}),\n",
       " Document(page_content='movie_id: 175\\ntitle: Echoes of Eternity\\nindustry: Fantasy\\nrelease_year: 2022\\nimdb_rating: 7.9\\nstudio: Dreamscape Dreams\\nlanguage_id: 4\\nbudget: 80\\nrevenue: 190\\nunit: Millions\\ncurrency: USD', metadata={'source': 'Echoes of Eternity', 'row': 74}),\n",
       " Document(page_content='movie_id: 176\\ntitle: Silent Symphony II\\nindustry: Drama\\nrelease_year: 2021\\nimdb_rating: 8.3\\nstudio: Serene Sequels\\nlanguage_id: 1\\nbudget: 30\\nrevenue: 90\\nunit: Millions\\ncurrency: USD', metadata={'source': 'Silent Symphony II', 'row': 75}),\n",
       " Document(page_content='movie_id: 177\\ntitle: Lost in Limbo\\nindustry: Adventure\\nrelease_year: 2023\\nimdb_rating: 7.5\\nstudio: Realm Roamers\\nlanguage_id: 5\\nbudget: 95\\nrevenue: 210\\nunit: Millions\\ncurrency: USD', metadata={'source': 'Lost in Limbo', 'row': 76}),\n",
       " Document(page_content='movie_id: 178\\ntitle: Whispering Willows\\nindustry: Horror\\nrelease_year: 2022\\nimdb_rating: 6.9\\nstudio: Eerie Enchantments\\nlanguage_id: 4\\nbudget: 55\\nrevenue: 120\\nunit: Millions\\ncurrency: USD', metadata={'source': 'Whispering Willows', 'row': 77}),\n",
       " Document(page_content='movie_id: 179\\ntitle: Starlight Sonata II\\nindustry: Musical\\nrelease_year: 2021\\nimdb_rating: 8.5\\nstudio: Harmonic Heights\\nlanguage_id: 1\\nbudget: 50\\nrevenue: 125\\nunit: Millions\\ncurrency: USD', metadata={'source': 'Starlight Sonata II', 'row': 78}),\n",
       " Document(page_content='movie_id: 180\\ntitle: Moonlit Mosaic\\nindustry: Animation\\nrelease_year: 2023\\nimdb_rating: 7.7\\nstudio: Cosmic Cartoons\\nlanguage_id: 4\\nbudget: 70\\nrevenue: 160\\nunit: Millions\\ncurrency: USD', metadata={'source': 'Moonlit Mosaic', 'row': 79}),\n",
       " Document(page_content=\"movie_id: 181\\ntitle: Enigma's Return\\nindustry: Drama\\nrelease_year: 2022\\nimdb_rating: 8\\nstudio: Mystery Mindset Films\\nlanguage_id: 1\\nbudget: 35\\nrevenue: 100\\nunit: Millions\\ncurrency: USD\", metadata={'source': \"Enigma's Return\", 'row': 80}),\n",
       " Document(page_content='movie_id: 182\\ntitle: Sonic Symphony II\\nindustry: Musical\\nrelease_year: 2021\\nimdb_rating: 7.7\\nstudio: WhizKid Studios\\nlanguage_id: 4\\nbudget: 55\\nrevenue: 135\\nunit: Millions\\ncurrency: USD', metadata={'source': 'Sonic Symphony II', 'row': 81}),\n",
       " Document(page_content='movie_id: 183\\ntitle: Neon Nights II\\nindustry: Thriller\\nrelease_year: 2023\\nimdb_rating: 7.8\\nstudio: Shadowplay Sequels\\nlanguage_id: 5\\nbudget: 75\\nrevenue: 180\\nunit: Millions\\ncurrency: USD', metadata={'source': 'Neon Nights II', 'row': 82}),\n",
       " Document(page_content='movie_id: 184\\ntitle: Lunar Legends II\\nindustry: Fantasy\\nrelease_year: 2022\\nimdb_rating: 8.1\\nstudio: Moonlight Magic\\nlanguage_id: 4\\nbudget: 90\\nrevenue: 220\\nunit: Millions\\ncurrency: USD', metadata={'source': 'Lunar Legends II', 'row': 83}),\n",
       " Document(page_content=\"movie_id: 185\\ntitle: Whistleblower's Legacy\\nindustry: War\\nrelease_year: 2021\\nimdb_rating: 6.5\\nstudio: Warrior Productions\\nlanguage_id: 5\\nbudget: 200\\nrevenue: 420\\nunit: Millions\\ncurrency: USD\", metadata={'source': \"Whistleblower's Legacy\", 'row': 84}),\n",
       " Document(page_content='movie_id: 186\\ntitle: Quantum Quest II\\nindustry: Sci-Fi\\nrelease_year: 2023\\nimdb_rating: 7.6\\nstudio: Infinity Entertainments\\nlanguage_id: 5\\nbudget: 120\\nrevenue: 290\\nunit: Millions\\ncurrency: USD', metadata={'source': 'Quantum Quest II', 'row': 85}),\n",
       " Document(page_content='movie_id: 187\\ntitle: Whispers in the Dark II\\nindustry: Horror\\nrelease_year: 2022\\nimdb_rating: 6.8\\nstudio: Chill Sequels\\nlanguage_id: 4\\nbudget: 65\\nrevenue: 140\\nunit: Millions\\ncurrency: USD', metadata={'source': 'Whispers in the Dark II', 'row': 86}),\n",
       " Document(page_content='movie_id: 188\\ntitle: Ethereal Echoes II\\nindustry: Fantasy\\nrelease_year: 2021\\nimdb_rating: 8.2\\nstudio: Dreamscape Films\\nlanguage_id: 4\\nbudget: 85\\nrevenue: 200\\nunit: Millions\\ncurrency: USD', metadata={'source': 'Ethereal Echoes II', 'row': 87}),\n",
       " Document(page_content='movie_id: 189\\ntitle: Whirlwind of Wonders II\\nindustry: Comedy\\nrelease_year: 2023\\nimdb_rating: 6.7\\nstudio: Joyful Pictures\\nlanguage_id: 2\\nbudget: 40\\nrevenue: 95\\nunit: Millions\\ncurrency: USD', metadata={'source': 'Whirlwind of Wonders II', 'row': 88}),\n",
       " Document(page_content='movie_id: 190\\ntitle: Chronicles of Celestia II\\nindustry: Fantasy\\nrelease_year: 2023\\nimdb_rating: 7.9\\nstudio: Ethereal Studios\\nlanguage_id: 5\\nbudget: 130\\nrevenue: 310\\nunit: Millions\\ncurrency: USD', metadata={'source': 'Chronicles of Celestia II', 'row': 89}),\n",
       " Document(page_content='movie_id: 191\\ntitle: The Silent Symphony III\\nindustry: Drama\\nrelease_year: 2021\\nimdb_rating: 8.3\\nstudio: Serene Films\\nlanguage_id: 1\\nbudget: 25\\nrevenue: 80\\nunit: Millions\\ncurrency: USD', metadata={'source': 'The Silent Symphony III', 'row': 90}),\n",
       " Document(page_content='movie_id: 192\\ntitle: Infinite Horizons II\\nindustry: Sci-Fi\\nrelease_year: 2022\\nimdb_rating: 7.6\\nstudio: Cosmic Productions\\nlanguage_id: 5\\nbudget: 95\\nrevenue: 220\\nunit: Millions\\ncurrency: USD', metadata={'source': 'Infinite Horizons II', 'row': 91}),\n",
       " Document(page_content='movie_id: 193\\ntitle: Whispering Shadows II\\nindustry: Thriller\\nrelease_year: 2023\\nimdb_rating: 7.2\\nstudio: Shadowcraft Films\\nlanguage_id: 3\\nbudget: 55\\nrevenue: 130\\nunit: Millions\\ncurrency: USD', metadata={'source': 'Whispering Shadows II', 'row': 92}),\n",
       " Document(page_content='movie_id: 194\\ntitle: Eternal Echoes II\\nindustry: Romance\\nrelease_year: 2022\\nimdb_rating: 7.1\\nstudio: Romantic Dreams\\nlanguage_id: 1\\nbudget: 60\\nrevenue: 120\\nunit: Millions\\ncurrency: USD', metadata={'source': 'Eternal Echoes II', 'row': 93}),\n",
       " Document(page_content='movie_id: 195\\ntitle: Rogue Agents II\\nindustry: Action\\nrelease_year: 2021\\nimdb_rating: 6.5\\nstudio: ThunderStrike Productions\\nlanguage_id: 5\\nbudget: 150\\nrevenue: 320\\nunit: Millions\\ncurrency: USD', metadata={'source': 'Rogue Agents II', 'row': 94}),\n",
       " Document(page_content='movie_id: 196\\ntitle: Lost in Time II\\nindustry: Adventure\\nrelease_year: 2021\\nimdb_rating: 7.8\\nstudio: Timeless Pictures\\nlanguage_id: 2\\nbudget: 70\\nrevenue: 180\\nunit: Millions\\ncurrency: USD', metadata={'source': 'Lost in Time II', 'row': 95}),\n",
       " Document(page_content='movie_id: 197\\ntitle: Space Serenade II\\nindustry: Sci-Fi\\nrelease_year: 2023\\nimdb_rating: 7.3\\nstudio: Cosmic Studios\\nlanguage_id: 5\\nbudget: 110\\nrevenue: 250\\nunit: Millions\\ncurrency: USD', metadata={'source': 'Space Serenade II', 'row': 96}),\n",
       " Document(page_content='movie_id: 198\\ntitle: Whispers in the Wind II\\nindustry: Drama\\nrelease_year: 2022\\nimdb_rating: 8.5\\nstudio: Serene Films\\nlanguage_id: 1\\nbudget: 30\\nrevenue: 90\\nunit: Millions\\ncurrency: USD', metadata={'source': 'Whispers in the Wind II', 'row': 97}),\n",
       " Document(page_content='movie_id: 199\\ntitle: Midnight Masquerade II\\nindustry: Mystery\\nrelease_year: 2023\\nimdb_rating: 7\\nstudio: Enigma Entertainment\\nlanguage_id: 3\\nbudget: 45\\nrevenue: 110\\nunit: Millions\\ncurrency: USD', metadata={'source': 'Midnight Masquerade II', 'row': 98}),\n",
       " Document(page_content='movie_id: 200\\ntitle: Legacy of Legends II\\nindustry: Action\\nrelease_year: 2022\\nimdb_rating: 8\\nstudio: Epic Productions\\nlanguage_id: 5\\nbudget: 200\\nrevenue: 480\\nunit: Millions\\ncurrency: USD', metadata={'source': 'Legacy of Legends II', 'row': 99}),\n",
       " Document(page_content='movie_id: 201\\ntitle: Enchanted Symphony II\\nindustry: Animation\\nrelease_year: 2021\\nimdb_rating: 7.6\\nstudio: Magical Studios\\nlanguage_id: 4\\nbudget: 75\\nrevenue: 160\\nunit: Millions\\ncurrency: USD', metadata={'source': 'Enchanted Symphony II', 'row': 100}),\n",
       " Document(page_content='movie_id: 202\\ntitle: Whirlwind of Wonders III\\nindustry: Comedy\\nrelease_year: 2023\\nimdb_rating: 6.7\\nstudio: Joyful Pictures\\nlanguage_id: 2\\nbudget: 40\\nrevenue: 95\\nunit: Millions\\ncurrency: USD', metadata={'source': 'Whirlwind of Wonders III', 'row': 101}),\n",
       " Document(page_content='movie_id: 203\\ntitle: Chronicles of Celestia III\\nindustry: Fantasy\\nrelease_year: 2023\\nimdb_rating: 7.9\\nstudio: Ethereal Studios\\nlanguage_id: 5\\nbudget: 130\\nrevenue: 310\\nunit: Millions\\ncurrency: USD', metadata={'source': 'Chronicles of Celestia III', 'row': 102}),\n",
       " Document(page_content='movie_id: 204\\ntitle: The Silent Symphony IV\\nindustry: Drama\\nrelease_year: 2021\\nimdb_rating: 8.3\\nstudio: Serene Films\\nlanguage_id: 1\\nbudget: 25\\nrevenue: 80\\nunit: Millions\\ncurrency: USD', metadata={'source': 'The Silent Symphony IV', 'row': 103}),\n",
       " Document(page_content='movie_id: 205\\ntitle: Infinite Horizons III\\nindustry: Sci-Fi\\nrelease_year: 2022\\nimdb_rating: 7.6\\nstudio: Cosmic Productions\\nlanguage_id: 5\\nbudget: 95\\nrevenue: 220\\nunit: Millions\\ncurrency: USD', metadata={'source': 'Infinite Horizons III', 'row': 104}),\n",
       " Document(page_content='movie_id: 206\\ntitle: Whispering Shadows III\\nindustry: Thriller\\nrelease_year: 2023\\nimdb_rating: 7.2\\nstudio: Shadowcraft Films\\nlanguage_id: 3\\nbudget: 55\\nrevenue: 130\\nunit: Millions\\ncurrency: USD', metadata={'source': 'Whispering Shadows III', 'row': 105}),\n",
       " Document(page_content='movie_id: 207\\ntitle: Eternal Echoes III\\nindustry: Romance\\nrelease_year: 2022\\nimdb_rating: 7.1\\nstudio: Romantic Dreams\\nlanguage_id: 1\\nbudget: 60\\nrevenue: 120\\nunit: Millions\\ncurrency: USD', metadata={'source': 'Eternal Echoes III', 'row': 106}),\n",
       " Document(page_content='movie_id: 208\\ntitle: Rogue Agents III\\nindustry: Action\\nrelease_year: 2021\\nimdb_rating: 6.5\\nstudio: ThunderStrike Productions\\nlanguage_id: 5\\nbudget: 150\\nrevenue: 320\\nunit: Millions\\ncurrency: USD', metadata={'source': 'Rogue Agents III', 'row': 107}),\n",
       " Document(page_content='movie_id: 209\\ntitle: Lost in Time III\\nindustry: Adventure\\nrelease_year: 2021\\nimdb_rating: 7.8\\nstudio: Timeless Pictures\\nlanguage_id: 2\\nbudget: 70\\nrevenue: 180\\nunit: Millions\\ncurrency: USD', metadata={'source': 'Lost in Time III', 'row': 108}),\n",
       " Document(page_content='movie_id: 210\\ntitle: Space Serenade III\\nindustry: Sci-Fi\\nrelease_year: 2023\\nimdb_rating: 7.3\\nstudio: Cosmic Studios\\nlanguage_id: 5\\nbudget: 110\\nrevenue: 250\\nunit: Millions\\ncurrency: USD', metadata={'source': 'Space Serenade III', 'row': 109}),\n",
       " Document(page_content='movie_id: 211\\ntitle: Whispers in the Wind III\\nindustry: Drama\\nrelease_year: 2022\\nimdb_rating: 8.5\\nstudio: Serene Films\\nlanguage_id: 1\\nbudget: 30\\nrevenue: 90\\nunit: Millions\\ncurrency: USD', metadata={'source': 'Whispers in the Wind III', 'row': 110}),\n",
       " Document(page_content='movie_id: 212\\ntitle: Midnight Masquerade III\\nindustry: Mystery\\nrelease_year: 2023\\nimdb_rating: 7\\nstudio: Enigma Entertainment\\nlanguage_id: 3\\nbudget: 45\\nrevenue: 110\\nunit: Millions\\ncurrency: USD', metadata={'source': 'Midnight Masquerade III', 'row': 111}),\n",
       " Document(page_content='movie_id: 213\\ntitle: Legacy of Legends III\\nindustry: Action\\nrelease_year: 2022\\nimdb_rating: 8\\nstudio: Epic Productions\\nlanguage_id: 5\\nbudget: 200\\nrevenue: 480\\nunit: Millions\\ncurrency: USD', metadata={'source': 'Legacy of Legends III', 'row': 112}),\n",
       " Document(page_content='movie_id: 214\\ntitle: Enchanted Symphony III\\nindustry: Animation\\nrelease_year: 2021\\nimdb_rating: 7.6\\nstudio: Magical Studios\\nlanguage_id: 4\\nbudget: 75\\nrevenue: 160\\nunit: Millions\\ncurrency: USD', metadata={'source': 'Enchanted Symphony III', 'row': 113}),\n",
       " Document(page_content='movie_id: 215\\ntitle: Whirlwind of Wonders IV\\nindustry: Comedy\\nrelease_year: 2023\\nimdb_rating: 6.7\\nstudio: Joyful Pictures\\nlanguage_id: 2\\nbudget: 40\\nrevenue: 95\\nunit: Millions\\ncurrency: USD', metadata={'source': 'Whirlwind of Wonders IV', 'row': 114}),\n",
       " Document(page_content='movie_id: 216\\ntitle: Chronicles of Celestia IV\\nindustry: Fantasy\\nrelease_year: 2023\\nimdb_rating: 7.9\\nstudio: Ethereal Studios\\nlanguage_id: 5\\nbudget: 130\\nrevenue: 310\\nunit: Millions\\ncurrency: USD', metadata={'source': 'Chronicles of Celestia IV', 'row': 115}),\n",
       " Document(page_content='movie_id: 217\\ntitle: The Silent Symphony V\\nindustry: Drama\\nrelease_year: 2021\\nimdb_rating: 8.3\\nstudio: Serene Films\\nlanguage_id: 1\\nbudget: 25\\nrevenue: 80\\nunit: Millions\\ncurrency: USD', metadata={'source': 'The Silent Symphony V', 'row': 116}),\n",
       " Document(page_content='movie_id: 218\\ntitle: Infinite Horizons IV\\nindustry: Sci-Fi\\nrelease_year: 2022\\nimdb_rating: 7.6\\nstudio: Cosmic Productions\\nlanguage_id: 5\\nbudget: 95\\nrevenue: 220\\nunit: Millions\\ncurrency: USD', metadata={'source': 'Infinite Horizons IV', 'row': 117})]"
      ]
     },
     "execution_count": 6,
     "metadata": {},
     "output_type": "execute_result"
    }
   ],
   "source": [
    "loader = CSVLoader('movies.csv',source_column ='title')\n",
    "df = loader.load()\n",
    "df"
   ]
  },
  {
   "cell_type": "code",
   "execution_count": 8,
   "id": "b1238b1f",
   "metadata": {},
   "outputs": [
    {
     "data": {
      "text/plain": [
       "'movie_id: 218\\ntitle: Infinite Horizons IV\\nindustry: Sci-Fi\\nrelease_year: 2022\\nimdb_rating: 7.6\\nstudio: Cosmic Productions\\nlanguage_id: 5\\nbudget: 95\\nrevenue: 220\\nunit: Millions\\ncurrency: USD'"
      ]
     },
     "execution_count": 8,
     "metadata": {},
     "output_type": "execute_result"
    }
   ],
   "source": [
    "df[-1].page_content"
   ]
  },
  {
   "cell_type": "code",
   "execution_count": 9,
   "id": "f05a7377",
   "metadata": {},
   "outputs": [
    {
     "data": {
      "text/plain": [
       "{'source': 'Infinite Horizons IV', 'row': 117}"
      ]
     },
     "execution_count": 9,
     "metadata": {},
     "output_type": "execute_result"
    }
   ],
   "source": [
    "df[-1].metadata"
   ]
  },
  {
   "cell_type": "code",
   "execution_count": 10,
   "id": "085b12fc",
   "metadata": {},
   "outputs": [
    {
     "name": "stdout",
     "output_type": "stream",
     "text": [
      "Requirement already satisfied: unstructured in c:\\users\\dell\\anaconda3\\lib\\site-packages (0.10.30)\n",
      "Requirement already satisfied: libmagic in c:\\users\\dell\\anaconda3\\lib\\site-packages (1.0)\n",
      "Requirement already satisfied: python-magic in c:\\users\\dell\\anaconda3\\lib\\site-packages (0.4.27)\n",
      "Requirement already satisfied: python-magic-bin in c:\\users\\dell\\anaconda3\\lib\\site-packages (0.4.14)\n",
      "Requirement already satisfied: numpy in c:\\users\\dell\\anaconda3\\lib\\site-packages (from unstructured) (1.22.4)\n",
      "Requirement already satisfied: rapidfuzz in c:\\users\\dell\\anaconda3\\lib\\site-packages (from unstructured) (3.5.2)\n",
      "Requirement already satisfied: emoji in c:\\users\\dell\\anaconda3\\lib\\site-packages (from unstructured) (2.8.0)\n",
      "Requirement already satisfied: backoff in c:\\users\\dell\\anaconda3\\lib\\site-packages (from unstructured) (2.2.1)\n",
      "Requirement already satisfied: lxml in c:\\users\\dell\\anaconda3\\lib\\site-packages (from unstructured) (4.8.0)\n",
      "Requirement already satisfied: dataclasses-json in c:\\users\\dell\\anaconda3\\lib\\site-packages (from unstructured) (0.5.14)\n",
      "Requirement already satisfied: typing-extensions in c:\\users\\dell\\anaconda3\\lib\\site-packages (from unstructured) (4.7.1)\n",
      "Requirement already satisfied: requests in c:\\users\\dell\\anaconda3\\lib\\site-packages (from unstructured) (2.31.0)\n",
      "Requirement already satisfied: nltk in c:\\users\\dell\\anaconda3\\lib\\site-packages (from unstructured) (3.7)\n",
      "Requirement already satisfied: langdetect in c:\\users\\dell\\anaconda3\\lib\\site-packages (from unstructured) (1.0.9)\n",
      "Requirement already satisfied: chardet in c:\\users\\dell\\anaconda3\\lib\\site-packages (from unstructured) (4.0.0)\n",
      "Requirement already satisfied: beautifulsoup4 in c:\\users\\dell\\anaconda3\\lib\\site-packages (from unstructured) (4.11.1)\n",
      "Requirement already satisfied: python-iso639 in c:\\users\\dell\\anaconda3\\lib\\site-packages (from unstructured) (2023.6.15)\n",
      "Requirement already satisfied: filetype in c:\\users\\dell\\anaconda3\\lib\\site-packages (from unstructured) (1.2.0)\n",
      "Requirement already satisfied: tabulate in c:\\users\\dell\\anaconda3\\lib\\site-packages (from unstructured) (0.8.9)\n",
      "Requirement already satisfied: soupsieve>1.2 in c:\\users\\dell\\anaconda3\\lib\\site-packages (from beautifulsoup4->unstructured) (2.3.1)\n",
      "Requirement already satisfied: marshmallow<4.0.0,>=3.18.0 in c:\\users\\dell\\anaconda3\\lib\\site-packages (from dataclasses-json->unstructured) (3.20.1)\n",
      "Requirement already satisfied: typing-inspect<1,>=0.4.0 in c:\\users\\dell\\anaconda3\\lib\\site-packages (from dataclasses-json->unstructured) (0.9.0)\n",
      "Requirement already satisfied: packaging>=17.0 in c:\\users\\dell\\anaconda3\\lib\\site-packages (from marshmallow<4.0.0,>=3.18.0->dataclasses-json->unstructured) (21.3)\n",
      "Requirement already satisfied: pyparsing!=3.0.5,>=2.0.2 in c:\\users\\dell\\anaconda3\\lib\\site-packages (from packaging>=17.0->marshmallow<4.0.0,>=3.18.0->dataclasses-json->unstructured) (3.0.4)\n",
      "Requirement already satisfied: mypy-extensions>=0.3.0 in c:\\users\\dell\\anaconda3\\lib\\site-packages (from typing-inspect<1,>=0.4.0->dataclasses-json->unstructured) (0.4.3)\n",
      "Requirement already satisfied: six in c:\\users\\dell\\anaconda3\\lib\\site-packages (from langdetect->unstructured) (1.16.0)\n",
      "Requirement already satisfied: regex>=2021.8.3 in c:\\users\\dell\\anaconda3\\lib\\site-packages (from nltk->unstructured) (2022.3.15)\n",
      "Requirement already satisfied: click in c:\\users\\dell\\anaconda3\\lib\\site-packages (from nltk->unstructured) (8.0.4)\n",
      "Requirement already satisfied: joblib in c:\\users\\dell\\anaconda3\\lib\\site-packages (from nltk->unstructured) (1.2.0)\n",
      "Requirement already satisfied: tqdm in c:\\users\\dell\\anaconda3\\lib\\site-packages (from nltk->unstructured) (4.66.1)\n",
      "Requirement already satisfied: colorama in c:\\users\\dell\\anaconda3\\lib\\site-packages (from click->nltk->unstructured) (0.4.4)\n",
      "Requirement already satisfied: certifi>=2017.4.17 in c:\\users\\dell\\anaconda3\\lib\\site-packages (from requests->unstructured) (2021.10.8)\n",
      "Requirement already satisfied: charset-normalizer<4,>=2 in c:\\users\\dell\\anaconda3\\lib\\site-packages (from requests->unstructured) (2.0.4)\n",
      "Requirement already satisfied: urllib3<3,>=1.21.1 in c:\\users\\dell\\anaconda3\\lib\\site-packages (from requests->unstructured) (1.26.9)\n",
      "Requirement already satisfied: idna<4,>=2.5 in c:\\users\\dell\\anaconda3\\lib\\site-packages (from requests->unstructured) (3.3)\n"
     ]
    }
   ],
   "source": [
    "## UnstructuredURLLoader : python library to load the content from url\n",
    "!pip3 install unstructured libmagic python-magic python-magic-bin"
   ]
  },
  {
   "cell_type": "code",
   "execution_count": 11,
   "id": "9e227487",
   "metadata": {},
   "outputs": [],
   "source": [
    "from langchain.document_loaders import UnstructuredURLLoader\n",
    "## https://pypi.org/project/unstructured/"
   ]
  },
  {
   "cell_type": "code",
   "execution_count": 12,
   "id": "d9346367",
   "metadata": {},
   "outputs": [],
   "source": [
    "loader = UnstructuredURLLoader(\n",
    "    urls = [\n",
    "        \"https://www.moneycontrol.com/news/politics/ipef-nations-conclude-talk-on-clean-economy-agreement-proposes-members-to-work-on-sustainable-measures-11757861.html\",\n",
    "        \"https://www.moneycontrol.com/news/cricket/icc-world-cup-2023-australia-edge-south-africa-and-will-play-india-in-final-11757771.html\"\n",
    "    ]\n",
    ")"
   ]
  },
  {
   "cell_type": "code",
   "execution_count": 13,
   "id": "d1cadd7b",
   "metadata": {},
   "outputs": [
    {
     "data": {
      "text/plain": [
       "2"
      ]
     },
     "execution_count": 13,
     "metadata": {},
     "output_type": "execute_result"
    }
   ],
   "source": [
    "df = loader.load()\n",
    "len(df)"
   ]
  },
  {
   "cell_type": "code",
   "execution_count": 14,
   "id": "42933f38",
   "metadata": {},
   "outputs": [
    {
     "data": {
      "text/plain": [
       "Document(page_content='English\\n\\nHindi\\n\\nGujarati\\n\\nSpecials\\n\\nTrending Stocks\\n\\nSuzlon Energy\\xa0INE040H01021, SUZLON, 532667\\n\\nProtean eGov\\xa0INE004A01022, , 544021\\n\\nYes Bank\\xa0INE528G01035, YESBANK, 532648\\n\\nTata Power\\xa0INE245A01021, TATAPOWER, 500400\\n\\nBajaj Finance\\xa0INE296A01024, BAJFINANCE, 500034\\n\\nCheck your Credit Score here!\\n\\nQuotes\\n\\nMutual Funds\\n\\nCommodities\\n\\nFutures & Options\\n\\nCurrency\\n\\nNews\\n\\nCryptocurrency\\n\\nForum\\n\\nNotices\\n\\nVideos\\n\\nGlossary\\n\\nAll\\n\\nHello, LoginHello, LoginLog-inor Sign-UpMy AccountMy Profile My PortfolioMy WatchlistMy Credit ScoreMy FeedMy MessagesMy AlertsMy Profile My PROMy PortfolioMy WatchlistMy Credit ScoreMy FeedMy MessagesMy AlertsLogoutChat with UsDownload AppFollow us on:\\n\\nUpgrade\\n\\nMy Feed\\n\\nMarketsHOMEINDIAN INDICESSTOCK ACTIONAll StatsTop GainersTop LosersOnly BuyersOnly Sellers52 Week High52 Week LowPrice ShockersVolume ShockersMost Active StocksGLOBAL MARKETSUS MARKETSBIG SHARK PORTFOLIOSECONOMIC CALENDARMARKET ACTIONDashboardF&OFII & DII ActivityCorporate ActionEARNINGSCOMMODITYPRE MARKETRESEARCHAdviceBroker ResearchTechnicalsCURRENCYWEBINARINTERVIEW SERIESIPOOTHERSBondsCryptocurrencyToolsNewsHOMEPAGEBUSINESSHomeEconomyCompaniesMutual FundsPersonal FinanceIPOStartupsReal EstateSMEGEOGRAPHYIndiaWorldMARKETSHomeStocksTechnical AnalysisEquity ResearchCommodityCurrencyGold RateSilver RateSPECIALTrendsLatest NewsOpinionTECHNOLOGYPersonal TechAutoFintechMEDIAPodcastPhotosInfographicsVideosOTHERSMC LearnPoliticsCricketEntertainmentTravelLifestyleHealth and FitnessEducationScienceBooksMC BuzzMC FeaturesTech/StartupsPortfolioWatchlistCommoditiesMutual FundsEXPLOREHomeFind FundTop Ranked FundsPerformance TrackerSIP Performance TrackerETF PerformanceNFOTop Performing CategoriesLearnTOOLSReturns CalculatorLumpsum SIP BalancerDelay Cost CalculatorSIP ReturnMF FORUMTRACKYour MF InvestmentMF PricesMC 30Personal FinanceEXPLOREHomeInvestingInsuranceBankingFinancial PlanningPropertyToolsVideoAsk ExpertExplainerIncome Tax Filing GuideNPSFIXED DEPOSITFixed Deposit Interest CalculatorCorporate DepositsTAXIncome tax Filing GuideIncome Tax CalculatorEmergency Fund CalculatorLOANS & CREDIT CARDSHomeCar Loan CalculatorHome Loan CalculatorEducation Loan CalculatorCredit Card Debit Payoff CalculatorTOOLSProvident Fund CalculatorAssets Allocation PlanningDebt Reduction PlannerDebt Evaluation CalculatorCurrent Expense CalculatorCREDIT SCOREREAL ESTATE : TRENDS & ANALYTICSMC 30MC HEALTH INSURANCE RATINGSGOLD PRICE TODAYForumEXPLORE FORUMHomepageMembership RulesForum TopicsAsk the ExpertTop BoardersUSER PROFILEFORUM TOPICSLatest ThreadsStocksIndexGoldPersonal FinanceJust PostedMF FORUMPOLLSLatest PollsHistorical PollsMarket SentimentsSUPPORTFAQsCode of ConductFeedbackWrite to usVideosVIDEOSHomepageVideos on DemandMarkets with Santo & CJMorning TradeCommodities chat with Manisha GuptaLet`s Talk JobsThe TenantDrive ReportBajar GupshupBits To BillionsPODCASTHomepagePodcast on DemandThe Week on Dalal StreetMarket MinutesMC Special PodcastSimply SavePolicy TalksLIVE TVHindiGujaratiInvest Now.investNW .sepInvsli a.pdg_btm{ padding-bottom: 46px; }\\n\\t\\t.header_desktop.header1024 .investNW .sepInvsli a.pdg_btm{padding-bottom: 0px;}\\n\\t\\t@media screen and (max-width:1279px) { \\n\\t\\t\\t.investNW .sepInvsli a.pdg_btm{ padding-bottom: 0px; } \\n\\t\\t}Invest in bonds onlinePowered By Invest in high-rated bonds from as low as Rs. 10,000Find & Invest in bonds issued by top corporates, PSU Banks, NBFCs, and much more. Invest as low as 10,000 and earn better returns than FDInvest NowExpert Trading GuidancePowered By Trading Advisories, Courses & Webinars by Top Verified Experts.Unlock Your Trading Potential: Trade like Experts with SEBI registered creators, Learn from Courses & Webinars by India\\'s Finest Finance Experts.Invest NowSubscriptionAMBAREESH BALIGAFundamental, Stock Ideas, Multibaggers & InsightsSubscribeCK NARAYANStock & Index F&O Trading Calls & Market AnalysisSubscribeSUDARSHAN SUKHANITechnical Call, Trading Calls & InsightsSubscribeT GNANASEKARCommodity Trading Calls & Market AnalysisSubscribeMECKLAI FINANCIALSCurrency Derivatives Trading Calls & InsightsSubscribeSHUBHAM AGARWALOptions Trading Advice and Market AnalysisSubscribeMARKET SMITH INDIAModel portfolios, Investment Ideas, Guru Screens and Much MoreSubscribeTraderSmithProprietary system driven Rule Based Trading callsSubscribeCurated markets data, exclusive trading recommendations, Independent equity analysis & actionable investment ideasSubscribeCurated markets data, exclusive trading recommendations, Independent equity analysis & actionable investment ideasExploreSTOCK REPORTS BY THOMSON REUTERSDetails stock report and investment recommendationSubscribePOWER YOUR TRADETechnical and Commodity CallsSubscribeINVESTMENT WATCHSet price, volume and news alertsSubscribeGo PRO @₹99 BusinessMarketsStocksEconomyCompaniesTrendsIPOOpinionEV Special\\n\\n>->MC_ENG_DESKTOP/MC_ENG_NEWS/MC_ENG_POLITICS_AS/MC_ENG_ROS_NWS_POL_AS_ATF_728\\n\\nBe a PRO\\n\\nPRO\\n\\n\\n\\nMarketsHOMEINDIAN INDICESSTOCK ACTIONAll StatsTop GainersTop LosersOnly BuyersOnly Sellers52 Week High52 Week LowPrice ShockersVolume ShockersMost Active StocksGLOBAL MARKETSUS MARKETSBIG SHARK PORTFOLIOSECONOMIC CALENDARMARKET ACTIONDashboardF&OFII & DII ActivityCorporate ActionEARNINGSCOMMODITYPRE MARKETRESEARCHAdviceBroker ResearchTechnicalsCURRENCYWEBINARINTERVIEW SERIESIPOOTHERSBondsCryptocurrencyTools\\n\\nNewsHOMEPAGEBUSINESSHomeEconomyCompaniesMutual FundsPersonal FinanceIPOStartupsReal EstateSMEGEOGRAPHYIndiaWorldMARKETSHomeStocksTechnical AnalysisEquity ResearchCommodityCurrencyGold RateSilver RateSPECIALTrendsLatest NewsOpinionTECHNOLOGYPersonal TechAutoFintechMEDIAPodcastPhotosInfographicsVideosOTHERSMC LearnPoliticsCricketEntertainmentTravelLifestyleHealth and FitnessEducationScienceBooksMC BuzzMC Features\\n\\nTech/Startups\\n\\nPortfolio\\n\\nWatchlist\\n\\nCommodities\\n\\nMutual FundsEXPLOREHomeFind FundTop Ranked FundsPerformance TrackerSIP Performance TrackerETF PerformanceNFOTop Performing CategoriesLearnTOOLSReturns CalculatorLumpsum SIP BalancerDelay Cost CalculatorSIP ReturnMF FORUMTRACKYour MF InvestmentMF PricesMC 30\\n\\nPersonal FinanceEXPLOREHomeInvestingInsuranceBankingFinancial PlanningPropertyToolsVideoAsk ExpertExplainerIncome Tax Filing GuideNPSFIXED DEPOSITFixed Deposit Interest CalculatorCorporate DepositsTAXIncome tax Filing GuideIncome Tax CalculatorEmergency Fund CalculatorLOANS & CREDIT CARDSHomeCar Loan CalculatorHome Loan CalculatorEducation Loan CalculatorCredit Card Debit Payoff CalculatorTOOLSProvident Fund CalculatorAssets Allocation PlanningDebt Reduction PlannerDebt Evaluation CalculatorCurrent Expense CalculatorCREDIT SCOREREAL ESTATE : TRENDS & ANALYTICSMC 30MC HEALTH INSURANCE RATINGSGOLD PRICE TODAY\\n\\nForumEXPLORE FORUMHomepageMembership RulesForum TopicsAsk the ExpertTop BoardersUSER PROFILEFORUM TOPICSLatest ThreadsStocksIndexGoldPersonal FinanceJust PostedMF FORUMPOLLSLatest PollsHistorical PollsMarket SentimentsSUPPORTFAQsCode of ConductFeedbackWrite to us\\n\\nVideosVIDEOSHomepageVideos on DemandMarkets with Santo & CJMorning TradeCommodities chat with Manisha GuptaLet`s Talk JobsThe TenantDrive ReportBajar GupshupBits To BillionsPODCASTHomepagePodcast on DemandThe Week on Dalal StreetMarket MinutesMC Special PodcastSimply SavePolicy TalksLIVE TVHindiGujarati\\n\\nInvest Now.investNW .sepInvsli a.pdg_btm{ padding-bottom: 46px; }\\n\\t\\t.header_desktop.header1024 .investNW .sepInvsli a.pdg_btm{padding-bottom: 0px;}\\n\\t\\t@media screen and (max-width:1279px) { \\n\\t\\t\\t.investNW .sepInvsli a.pdg_btm{ padding-bottom: 0px; } \\n\\t\\t}Invest in bonds onlinePowered By Invest in high-rated bonds from as low as Rs. 10,000Find & Invest in bonds issued by top corporates, PSU Banks, NBFCs, and much more. Invest as low as 10,000 and earn better returns than FDInvest NowExpert Trading GuidancePowered By Trading Advisories, Courses & Webinars by Top Verified Experts.Unlock Your Trading Potential: Trade like Experts with SEBI registered creators, Learn from Courses & Webinars by India\\'s Finest Finance Experts.Invest Now\\n\\nSubscriptionAMBAREESH BALIGAFundamental, Stock Ideas, Multibaggers & InsightsSubscribeCK NARAYANStock & Index F&O Trading Calls & Market AnalysisSubscribeSUDARSHAN SUKHANITechnical Call, Trading Calls & InsightsSubscribeT GNANASEKARCommodity Trading Calls & Market AnalysisSubscribeMECKLAI FINANCIALSCurrency Derivatives Trading Calls & InsightsSubscribeSHUBHAM AGARWALOptions Trading Advice and Market AnalysisSubscribeMARKET SMITH INDIAModel portfolios, Investment Ideas, Guru Screens and Much MoreSubscribeTraderSmithProprietary system driven Rule Based Trading callsSubscribeCurated markets data, exclusive trading recommendations, Independent equity analysis & actionable investment ideasSubscribeCurated markets data, exclusive trading recommendations, Independent equity analysis & actionable investment ideasExploreSTOCK REPORTS BY THOMSON REUTERSDetails stock report and investment recommendationSubscribePOWER YOUR TRADETechnical and Commodity CallsSubscribeINVESTMENT WATCHSet price, volume and news alertsSubscribe\\n\\nGo PRO @₹99\\n\\nBusiness\\n\\nMarkets\\n\\nStocks\\n\\nEconomy\\n\\nCompanies\\n\\nTrends\\n\\nIPO\\n\\nOpinion\\n\\nEV Special\\n\\nExclusive Offer for New Credit Score Users\\n\\nCheck your Credit Score and Get Rs 100 Cashback!\\n\\nyou are here:\\n\\nHome\\n\\nNews\\n\\nPolitics\\n\\nIPEF nations conclude talk on clean economy agreement; proposes members to work on sustainable measures\\n\\nAccording to a joint statement from IPEF partner nations, the member countries will now undertake the necessary steps, including further domestic consultations and a legal review, to prepare the final texts of the agreement.\\n\\nPTI\\n\\nNovember 16, 2023 / 11:04 PM IST\\n\\n\\n\\n\\n\\n\\n\\n\\n\\n\\n\\n\\n\\n\\n\\n\\n\\n\\n\\n\\n\\n\\n\\n\\n\\nIPEF nations conclude talk on clean economy agreement; proposes members to work on sustainable measures\\n\\nIndia, the US and 12 nations of IPEF have announced the conclusion of negotiations for the proposed clean economy agreement to urge members to take steps for mitigating greenhouse gas emissions and promoting sustainable livelihoods. According to a joint statement from IPEF partner nations, the member countries will now undertake the necessary steps, including further domestic consultations and a legal review, to prepare the final texts of the agreement.\\n\\nOnce finalised, the proposed agreement will be subject to IPEF partners\\' domestic processes for signature, followed by ratification, acceptance, or approval. \"Today, the 14 IPEF partners announced the substantial conclusion of the negotiations of the IPEF Clean Economy Agreement, the IPEF Fair Economy Agreement, and the Agreement on the Indo-Pacific Economic Framework for Prosperity at the IPEF Ministerial Meeting in San Francisco, California,\" the joint statement said.\\n\\nThrough the clean economy agreement, the member countries are committed to actively pursuing their shared climate objectives and respective pathways to net-zero emission economies, while ensuring the promotion of sustainable growth, it added. \"To that end, the proposed agreement covers a range of issues critical to transitions to clean economies, including efforts towards energy security and transition, climate resilience and adaptation, greenhouse gas emissions mitigation, and the promotion of sustainable livelihoods and just transition,\" the statement said.\\n\\nThrough the cooperative efforts contemplated under the agreement, the IPEF partners intend to accelerate the research, commercialisation, accessibility, affordability, and deployment of a diverse set of clean energy and climate-friendly technologies; and advance sustainable agricultural practices through innovative policies, tools, and technologies, to reduce emissions and increase productivity, it noted.\\n\\nAs per the proposed pact, the 14 countries intend to reduce the climate impact of the transportation sector, including through efforts related to the establishment of green shipping corridors, increasing the production and availability of sustainable aviation fuels, and decarbonising the road sector, including a vehicle fleet that supports zero emission transport. Besides, it has proposed to bolster the supply of and demand for low- or zero-emissions goods and services, including by working closely with the private sector, reducing potential non-tariff barriers, providing greater clarity and certainty in business environments, or promoting fiscal incentives; and working together on issues like carbon credit certification standards.\\n\\nRelated stories\\n\\nIndia, US, 12 other IPEF members conclude talks on clean, fair economy agreements\\n\\nIPEF no substitute for India’s stuck trade pacts\\n\\nSebi eases norms for investors to access unclaimed amount in debt securities, REITs, InvITs\\n\\n\"The IPEF partners also seek to increase investment flows to the region to address the acute need for financing for climate-related infrastructure, technologies, and projects in support of their transitions to clean economies,\" it said. To that end, the proposed agreement includes commitments to increase the flow of investments through measures that will boost investor confidence in the region like promoting sustainable finance; fostering innovative financial mechanisms; and working towards a stable and more seamless regulatory and policy environment.\\n\\nIt also proposed to mobilise and expand access to financing, including by deploying concessional capital, guarantees and risk insurance, and technical assistance consistent with robust labour rights and environmental protection. \"As part of these efforts, the IPEF partners will convene an annual IPEF Clean Economy Investor Forum, with the first meeting taking place in Singapore in the first half of 2024, to catalyse investment for sustainable infrastructure and climate technology,\" it said.\\n\\nIPEF was launched jointly by the US and other partner countries of the Indo-Pacific region on May 23 last year in Tokyo. The framework is structured around four pillars relating to trade, supply chains, clean economy and fair economy (issues like tax and anti-corruption). India has joined all the pillars except the trade.\\n\\nAustralia, Brunei Darussalam, Fiji, India, Indonesia, Japan, the Republic of Korea, Malaysia, New Zealand, Philippines, Singapore, Thailand, the US and Vietnam are members of the bloc. Together, they account for 40 per cent of the world\\'s economic output and 28 per cent of trade.\\n\\nPTI\\n\\nTags:\\n\\n#clean economy\\n\\n#IPEF\\n\\nfirst published: Nov 16, 2023 11:04 pm\\n\\nbusiness news,\\n\\nSensex, and\\n\\nNifty updates. Obtain\\n\\nPersonal Finance insights, tax queries, and expert opinions on\\n\\nMoneycontrol or download the\\n\\nMoneycontrol App to stay updated!\\n\\nTrending news\\n\\nThis company is offering upto Rs 83 crore annual salary to poach top Google, Meta talents\\n\\nBalenciaga\\'s latest offering is an absurd \\'towel skirt\\' priced at Rs 77,000\\n\\nAshneer Grover, Deepak Shenoy exchange blows after BharatPe fake invoice probe. See post\\n\\nWho are Kurush Mistry and Shailja Gupta, Indian couple caught on camera yelling at Jewish-American?\\n\\nSwiggy Instamart customer orders 240 incense sticks for India semifinal. Viral thread\\n\\nForum\\n\\nFacebook\\n\\nTwitter\\n\\nInstagram\\n\\nLinkedin\\n\\nRSS\\n\\nPortfolio\\n\\nMarkets\\n\\nWatchlist\\n\\nLive TV Show\\n\\nCurrencies\\n\\nCredit Score\\n\\nCommodities\\n\\nFixed Income\\n\\nPersonal Finance\\n\\nMutual Fund\\n\\nPre-Market\\n\\nIPO\\n\\nGlobal Market\\n\\nBudget 2023\\n\\nGold Rate\\n\\nBSE Sensex\\n\\nForum\\n\\nMC 30\\n\\nNews\\n\\nBusiness\\n\\nMarkets\\n\\nStocks\\n\\nEconomy\\n\\nMutual Funds\\n\\nPersonal Finance\\n\\nIPO News\\n\\nStartups\\n\\nElection 2023\\n\\nElections 2023 in Hindi\\n\\nStocks:\\n\\nA |\\n\\nB |\\n\\nC |\\n\\nD |\\n\\nE |\\n\\nF |\\n\\nG |\\n\\nH |\\n\\nI |\\n\\nJ |\\n\\nK |\\n\\nL |\\n\\nM |\\n\\nN |\\n\\nO |\\n\\nP |\\n\\nQ |\\n\\nR |\\n\\nS |\\n\\nT |\\n\\nU |\\n\\nV |\\n\\nW |\\n\\nX |\\n\\nY |\\n\\nZ |\\n\\nOthers\\n\\nMutual Funds:\\n\\nA \\r\\n             |\\n\\nB \\r\\n             |\\n\\nC \\r\\n             |\\n\\nD \\r\\n             |\\n\\nE \\r\\n             |\\n\\nF \\r\\n             |\\n\\nG \\r\\n             |\\n\\nH \\r\\n             |\\n\\nI \\r\\n             |\\n\\nJ \\r\\n             |\\n\\nK \\r\\n             |\\n\\nL \\r\\n             |\\n\\nM \\r\\n             |\\n\\nN \\r\\n             |\\n\\nO \\r\\n             |\\n\\nP \\r\\n             |\\n\\nQ \\r\\n             |\\n\\nR \\r\\n             |\\n\\nS \\r\\n             |\\n\\nT \\r\\n             |\\n\\nU \\r\\n             |\\n\\nV \\r\\n             |\\n\\nW \\r\\n             |\\n\\nX \\r\\n             |\\n\\nY \\r\\n             |\\n\\nVisit the App Store to see all our apps:\\n\\nDownload from Google Play\\n\\nDownload from APP Store\\n\\nDownload from Windows Phone\\n\\nTools\\n\\nRetirement Planning\\n\\nEMI Calculator\\n\\nSIP Calculator\\n\\nSIP Planner\\n\\nUseful Links\\n\\nCrypto News\\n\\nBank Holidays in India\\n\\nGold Rate Today\\n\\nSilver Rate Today\\n\\nTrending News\\n\\nStartups\\n\\nNational News\\n\\nMC Videos\\n\\nMC You Tube\\n\\nHouse Purchase Index\\n\\nBest Portfolio Manager\\n\\nSmall Savings Schemes\\n\\nBonds\\n\\nTopperLearning\\n\\nClear Study Doubts\\n\\nEducation Franchisee Opportunity\\n\\nSpecials\\n\\nMaster Your Money\\n\\nGame Changers\\n\\nInvestment Watch\\n\\nPowerYourTrade\\n\\nMoneyBhai\\n\\nFocus\\n\\nSME Step Up\\n\\nNetwork 18 Sites\\n\\nNews18\\n\\nFirstpost\\n\\nCNBC TV18\\n\\nNews18 Hindi\\n\\nCricketnext\\n\\nOverdrive\\n\\nTopper Learning\\n\\nAbout us |\\n\\nContact Us |\\n\\nAdvertise with Us |\\n\\nSupport |\\n\\nDisclaimer |\\n\\nPrivacy Policy |\\n\\nCookie Policy |\\n\\nTerms & Conditions |\\n\\nCareers |\\n\\nFinancial Terms (Glossary) |\\n\\nFAQs |\\n\\nSitemap |\\n\\nRSS Feed\\n\\nCopyright © e-Eighteen.com Ltd. All rights reserved. Reproduction of news articles, photos, videos or any other content in whole or in part in any form \\r\\n        or medium without express writtern permission of moneycontrol.com is prohibited.\\n\\nYou got 30 Day’s Trial of\\n\\nGrab it Now\\n\\nAd-Free Experience\\n\\nTop Articles from Financial Times\\n\\nActionable Insights\\n\\nMC Research\\n\\nEconomic Calendar\\n\\n& Many More\\n\\nYou are already a Moneycontrol Pro user.\\n\\nCheck your Credit Score Now!\\n\\nAccess your Detailed Credit Report - absolutely free\\n\\nClick Here\\n\\n101Reporters', metadata={'source': 'https://www.moneycontrol.com/news/politics/ipef-nations-conclude-talk-on-clean-economy-agreement-proposes-members-to-work-on-sustainable-measures-11757861.html'})"
      ]
     },
     "execution_count": 14,
     "metadata": {},
     "output_type": "execute_result"
    }
   ],
   "source": [
    "df[0]"
   ]
  },
  {
   "cell_type": "code",
   "execution_count": 15,
   "id": "f70015e1",
   "metadata": {},
   "outputs": [
    {
     "data": {
      "text/plain": [
       "{'source': 'https://www.moneycontrol.com/news/politics/ipef-nations-conclude-talk-on-clean-economy-agreement-proposes-members-to-work-on-sustainable-measures-11757861.html'}"
      ]
     },
     "execution_count": 15,
     "metadata": {},
     "output_type": "execute_result"
    }
   ],
   "source": [
    "df[0].metadata"
   ]
  },
  {
   "cell_type": "code",
   "execution_count": 16,
   "id": "425e789f",
   "metadata": {},
   "outputs": [],
   "source": [
    "## character and trecursive text splitters then merge splits\n",
    "## 1. LLMs have token limit \n",
    "## 2. Reduces big blocks into smaller chunks\n",
    "\n",
    "## Overlapping of chunks\n",
    "\n",
    "demo_text = \"\"\"Machine learning (ML) is a field of study in artificial intelligence concerned with the development and study of statistical algorithms that can effectively generalize and thus perform tasks without explicit instructions.[1] Recently, generative artificial neural networks have been able to surpass many previous approaches in performance.[2][3] Machine learning approaches have been applied to large language models, computer vision, speech recognition, email filtering, agriculture and medicine, where it is too costly to develop algorithms to perform the needed tasks.[4][5]\n",
    "\n",
    "The mathematical foundations of ML are provided by mathematical optimization (mathematical programming) methods. Data mining is a related (parallel) field of study, focusing on exploratory data analysis through unsupervised learning.[7][8]\n",
    "\n",
    "ML is known in its application across business problems under the name predictive analytics. Although not all machine learning is statistically based, computational statistics is an important source of the field's methods.\n",
    "\n",
    "History and relationships to other fields\n",
    "See also: Timeline of machine learning\n",
    "The term machine learning was coined in 1959 by Arthur Samuel, an IBM employee and pioneer in the field of computer gaming and artificial intelligence.[9][10] The synonym self-teaching computers was also used in this time period.[11][12]\n",
    "\n",
    "By the early 1960s an experimental \"learning machine\" with punched tape memory, called Cybertron, had been developed by Raytheon Company to analyze sonar signals, electrocardiograms, and speech patterns using rudimentary reinforcement learning. It was repetitively \"trained\" by a human operator/teacher to recognize patterns and equipped with a \"goof\" button to cause it to re-evaluate incorrect decisions.[13] A representative book on research into machine learning during the 1960s was Nilsson's book on Learning Machines, dealing mostly with machine learning for pattern classification.[14] Interest related to pattern recognition continued into the 1970s, as described by Duda and Hart in 1973.[15] In 1981 a report was given on using teaching strategies so that a neural network learns to recognize 40 characters (26 letters, 10 digits, and 4 special symbols) from a computer terminal.[16]\n",
    "\n",
    "Tom M. Mitchell provided a widely quoted, more formal definition of the algorithms studied in the machine learning field: \"A computer program is said to learn from experience E with respect to some class of tasks T and performance measure P if its performance at tasks in T, as measured by P, improves with experience E.\"[17] This definition of the tasks in which machine learning is concerned offers a fundamentally operational definition rather than defining the field in cognitive terms. This follows Alan Turing's proposal in his paper \"Computing Machinery and Intelligence\", in which the question \"Can machines think?\" is replaced with the question \"Can machines do what we (as thinking entities) can do?\".[18]\n",
    "\n",
    "Modern-day machine learning has two objectives, one is to classify data based on models which have been developed, the other purpose is to make predictions for future outcomes based on these models. A hypothetical algorithm specific to classifying data may use computer vision of moles coupled with supervised learning in order to train it to classify the cancerous moles. A machine learning algorithm for stock trading may inform the trader of future potential predictions.[19]\"\"\""
   ]
  },
  {
   "cell_type": "code",
   "execution_count": 17,
   "id": "ce1eede6",
   "metadata": {},
   "outputs": [
    {
     "name": "stderr",
     "output_type": "stream",
     "text": [
      "Created a chunk of size 577, which is longer than the specified 200\n",
      "Created a chunk of size 240, which is longer than the specified 200\n",
      "Created a chunk of size 223, which is longer than the specified 200\n",
      "Created a chunk of size 237, which is longer than the specified 200\n",
      "Created a chunk of size 895, which is longer than the specified 200\n",
      "Created a chunk of size 716, which is longer than the specified 200\n"
     ]
    },
    {
     "data": {
      "text/plain": [
       "8"
      ]
     },
     "execution_count": 17,
     "metadata": {},
     "output_type": "execute_result"
    }
   ],
   "source": [
    "## text[:200]\n",
    "\n",
    "## Using langchain API\n",
    "from langchain.text_splitter import CharacterTextSplitter\n",
    "\n",
    "splitter = CharacterTextSplitter(\n",
    "    separator = \"\\n\",\n",
    "    chunk_size = 200,\n",
    "    chunk_overlap = 0\n",
    ")\n",
    "\n",
    "chunks = splitter.split_text(demo_text)\n",
    "len(chunks)"
   ]
  },
  {
   "cell_type": "code",
   "execution_count": 18,
   "id": "e1b67b5a",
   "metadata": {},
   "outputs": [
    {
     "name": "stdout",
     "output_type": "stream",
     "text": [
      "577\n",
      "239\n",
      "222\n",
      "80\n",
      "237\n",
      "894\n",
      "715\n",
      "478\n"
     ]
    }
   ],
   "source": [
    "for chunk in chunks:\n",
    "    l = len(chunk)\n",
    "    print(l)"
   ]
  },
  {
   "cell_type": "code",
   "execution_count": 19,
   "id": "c44e5d34",
   "metadata": {},
   "outputs": [],
   "source": [
    "from langchain.text_splitter import RecursiveCharacterTextSplitter\n",
    "\n",
    "r_splitter = RecursiveCharacterTextSplitter(\n",
    "    separators = [\"\\n\\n\", \"\\n\", \" \"],  # List of separators based on requirement (defaults to [\"\\n\\n\", \"\\n\", \" \"])\n",
    "    chunk_size = 200,  # size of each chunk created\n",
    "    chunk_overlap  = 0,  # size of  overlap between chunks in order to maintain the context\n",
    "    length_function = len  # Function to calculate size, currently we are using \"len\" which denotes length of string however you can pass any token counter)\n",
    ")"
   ]
  },
  {
   "cell_type": "code",
   "execution_count": 20,
   "id": "2f8be532",
   "metadata": {
    "scrolled": true
   },
   "outputs": [
    {
     "name": "stdout",
     "output_type": "stream",
     "text": [
      "198\n",
      "195\n",
      "182\n",
      "193\n",
      "45\n",
      "198\n",
      "23\n",
      "80\n",
      "198\n",
      "38\n",
      "193\n",
      "191\n",
      "187\n",
      "194\n",
      "125\n",
      "197\n",
      "195\n",
      "198\n",
      "122\n",
      "200\n",
      "200\n",
      "76\n"
     ]
    }
   ],
   "source": [
    "chunks = r_splitter.split_text(demo_text)\n",
    "\n",
    "for chunk in chunks:\n",
    "    print(len(chunk))"
   ]
  }
 ],
 "metadata": {
  "kernelspec": {
   "display_name": "Python 3 (ipykernel)",
   "language": "python",
   "name": "python3"
  },
  "language_info": {
   "codemirror_mode": {
    "name": "ipython",
    "version": 3
   },
   "file_extension": ".py",
   "mimetype": "text/x-python",
   "name": "python",
   "nbconvert_exporter": "python",
   "pygments_lexer": "ipython3",
   "version": "3.9.12"
  }
 },
 "nbformat": 4,
 "nbformat_minor": 5
}
